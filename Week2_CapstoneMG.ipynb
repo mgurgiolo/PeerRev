{
 "cells": [
  {
   "cell_type": "markdown",
   "id": "22f4e6eb",
   "metadata": {},
   "source": [
    "## Week 2 Capstone Work\n",
    "\n",
    "For Week 2, include concepts such as linear regression with lasso, ridge, and elastic net regression."
   ]
  },
  {
   "cell_type": "code",
   "execution_count": 2,
   "id": "a5fdaa50",
   "metadata": {},
   "outputs": [],
   "source": [
    "# Imports\n",
    "import numpy as np\n",
    "import pandas as pd\n",
    "import statsmodels.api as sm\n",
    "from sklearn.linear_model import LinearRegression, Lasso, Ridge, ElasticNet\n",
    "from sklearn.preprocessing import StandardScaler\n",
    "from sklearn.model_selection import train_test_split, RepeatedKFold, cross_val_score, GridSearchCV\n",
    "import matplotlib.pyplot as plt\n",
    "from statsmodels.stats.outliers_influence import variance_inflation_factor"
   ]
  },
  {
   "cell_type": "code",
   "execution_count": 3,
   "id": "7aab59b0",
   "metadata": {},
   "outputs": [],
   "source": [
    "# Read in previous data\n",
    "team = pd.read_csv('data/cleaned/teamstats_eng.csv', sep=',', header=0)\n",
    "wr = pd.read_csv('data/cleaned/wr_eng.csv', sep=',', header=0)\n",
    "\n",
    "# create RKF\n",
    "rkf = RepeatedKFold(n_splits=5, n_repeats=10, random_state=42)"
   ]
  },
  {
   "cell_type": "code",
   "execution_count": 4,
   "id": "2bb481ee",
   "metadata": {},
   "outputs": [
    {
     "data": {
      "text/plain": [
       "(Index(['year', 'team', 'wins', 'losses', 'win_loss_perc', 'points',\n",
       "        'points_opp', 'points_diff', 'total_yards', 'plays_offense',\n",
       "        'yds_per_play_offense', 'turnovers', 'fumbles_lost', 'first_down',\n",
       "        'pass_cmp', 'pass_att', 'pass_yds', 'pass_td', 'pass_int',\n",
       "        'pass_net_yds_per_att', 'pass_fd', 'rush_att', 'rush_yds', 'rush_td',\n",
       "        'rush_yds_per_att', 'rush_fd', 'penalties', 'penalties_yds', 'pen_fd',\n",
       "        'score_pct', 'turnover_pct', 'exp_pts_tot', 'injuries',\n",
       "        'fumbles_lost_sq', 'penalties_sq', 'total_yards_sq'],\n",
       "       dtype='object'),\n",
       " Index(['Length', 'Distance', 'DirChanges', 'Max_S', 'Max_A', 'Injury_Duration',\n",
       "        'Temperature', 'Precipitation', 'FieldType_Natural',\n",
       "        'PlayType_Extra Point', 'PlayType_Field Goal', 'PlayType_Kickoff',\n",
       "        'PlayType_Kickoff Not Returned', 'PlayType_Kickoff Returned',\n",
       "        'PlayType_Pass', 'PlayType_Punt', 'PlayType_Punt Not Returned',\n",
       "        'PlayType_Punt Returned', 'PlayType_Rush', 'Length_sq', 'Distance_sq',\n",
       "        'DirChanges_sq', 'Max_S_sq', 'Max_A_sq', 'Temperature_sq'],\n",
       "       dtype='object'))"
      ]
     },
     "execution_count": 4,
     "metadata": {},
     "output_type": "execute_result"
    }
   ],
   "source": [
    "team.columns, wr.columns"
   ]
  },
  {
   "cell_type": "code",
   "execution_count": 5,
   "id": "714db42d",
   "metadata": {},
   "outputs": [],
   "source": [
    "# Team stats to predict inj\n",
    "X_team = team.drop(columns=['year', 'team', 'wins', 'losses', 'injuries']).copy()\n",
    "y_team = team['injuries'].copy()\n",
    "scores_team = []\n",
    "\n",
    "# Team stats to predict win_loss_perc\n",
    "X_team2 = team.drop(columns=['year', 'team', 'wins', 'losses', 'win_loss_perc']).copy()\n",
    "y_team2 = team['win_loss_perc'].copy()\n",
    "scores_team2 = []\n",
    "\n",
    "# wr play by play stats to predict injury duration\n",
    "X_wr = wr.drop(columns=['Injury_Duration']).copy()\n",
    "y_wr = wr['Injury_Duration'].copy()\n",
    "scores_wr = []"
   ]
  },
  {
   "cell_type": "markdown",
   "id": "bc84e3b3",
   "metadata": {},
   "source": [
    "### Lasso Regression"
   ]
  },
  {
   "cell_type": "code",
   "execution_count": 6,
   "id": "8e10b91f",
   "metadata": {},
   "outputs": [
    {
     "name": "stderr",
     "output_type": "stream",
     "text": [
      "c:\\Users\\mgurg\\Desktop\\BU OMCDS\\Semester-3\\datascience\\Lib\\site-packages\\sklearn\\linear_model\\_coordinate_descent.py:695: ConvergenceWarning: Objective did not converge. You might want to increase the number of iterations, check the scale of the features or consider increasing regularisation. Duality gap: 2.463e+02, tolerance: 1.017e+01\n",
      "  model = cd_fast.enet_coordinate_descent(\n",
      "c:\\Users\\mgurg\\Desktop\\BU OMCDS\\Semester-3\\datascience\\Lib\\site-packages\\sklearn\\linear_model\\_coordinate_descent.py:695: ConvergenceWarning: Objective did not converge. You might want to increase the number of iterations, check the scale of the features or consider increasing regularisation. Duality gap: 3.570e+01, tolerance: 9.992e+00\n",
      "  model = cd_fast.enet_coordinate_descent(\n",
      "c:\\Users\\mgurg\\Desktop\\BU OMCDS\\Semester-3\\datascience\\Lib\\site-packages\\sklearn\\linear_model\\_coordinate_descent.py:695: ConvergenceWarning: Objective did not converge. You might want to increase the number of iterations, check the scale of the features or consider increasing regularisation. Duality gap: 6.042e+03, tolerance: 9.545e+00\n",
      "  model = cd_fast.enet_coordinate_descent(\n",
      "c:\\Users\\mgurg\\Desktop\\BU OMCDS\\Semester-3\\datascience\\Lib\\site-packages\\sklearn\\linear_model\\_coordinate_descent.py:695: ConvergenceWarning: Objective did not converge. You might want to increase the number of iterations, check the scale of the features or consider increasing regularisation. Duality gap: 1.804e+04, tolerance: 9.504e+00\n",
      "  model = cd_fast.enet_coordinate_descent(\n",
      "c:\\Users\\mgurg\\Desktop\\BU OMCDS\\Semester-3\\datascience\\Lib\\site-packages\\sklearn\\linear_model\\_coordinate_descent.py:695: ConvergenceWarning: Objective did not converge. You might want to increase the number of iterations, check the scale of the features or consider increasing regularisation. Duality gap: 5.748e+03, tolerance: 9.846e+00\n",
      "  model = cd_fast.enet_coordinate_descent(\n",
      "c:\\Users\\mgurg\\Desktop\\BU OMCDS\\Semester-3\\datascience\\Lib\\site-packages\\sklearn\\linear_model\\_coordinate_descent.py:695: ConvergenceWarning: Objective did not converge. You might want to increase the number of iterations, check the scale of the features or consider increasing regularisation. Duality gap: 9.692e+02, tolerance: 1.038e+01\n",
      "  model = cd_fast.enet_coordinate_descent(\n",
      "c:\\Users\\mgurg\\Desktop\\BU OMCDS\\Semester-3\\datascience\\Lib\\site-packages\\sklearn\\linear_model\\_coordinate_descent.py:695: ConvergenceWarning: Objective did not converge. You might want to increase the number of iterations, check the scale of the features or consider increasing regularisation. Duality gap: 1.361e+04, tolerance: 9.372e+00\n",
      "  model = cd_fast.enet_coordinate_descent(\n",
      "c:\\Users\\mgurg\\Desktop\\BU OMCDS\\Semester-3\\datascience\\Lib\\site-packages\\sklearn\\linear_model\\_coordinate_descent.py:695: ConvergenceWarning: Objective did not converge. You might want to increase the number of iterations, check the scale of the features or consider increasing regularisation. Duality gap: 1.330e+01, tolerance: 9.890e+00\n",
      "  model = cd_fast.enet_coordinate_descent(\n",
      "c:\\Users\\mgurg\\Desktop\\BU OMCDS\\Semester-3\\datascience\\Lib\\site-packages\\sklearn\\linear_model\\_coordinate_descent.py:695: ConvergenceWarning: Objective did not converge. You might want to increase the number of iterations, check the scale of the features or consider increasing regularisation. Duality gap: 9.596e+02, tolerance: 9.980e+00\n",
      "  model = cd_fast.enet_coordinate_descent(\n",
      "c:\\Users\\mgurg\\Desktop\\BU OMCDS\\Semester-3\\datascience\\Lib\\site-packages\\sklearn\\linear_model\\_coordinate_descent.py:695: ConvergenceWarning: Objective did not converge. You might want to increase the number of iterations, check the scale of the features or consider increasing regularisation. Duality gap: 2.750e+03, tolerance: 9.456e+00\n",
      "  model = cd_fast.enet_coordinate_descent(\n",
      "c:\\Users\\mgurg\\Desktop\\BU OMCDS\\Semester-3\\datascience\\Lib\\site-packages\\sklearn\\linear_model\\_coordinate_descent.py:695: ConvergenceWarning: Objective did not converge. You might want to increase the number of iterations, check the scale of the features or consider increasing regularisation. Duality gap: 4.690e+03, tolerance: 9.868e+00\n",
      "  model = cd_fast.enet_coordinate_descent(\n",
      "c:\\Users\\mgurg\\Desktop\\BU OMCDS\\Semester-3\\datascience\\Lib\\site-packages\\sklearn\\linear_model\\_coordinate_descent.py:695: ConvergenceWarning: Objective did not converge. You might want to increase the number of iterations, check the scale of the features or consider increasing regularisation. Duality gap: 2.433e+03, tolerance: 1.009e+01\n",
      "  model = cd_fast.enet_coordinate_descent(\n",
      "c:\\Users\\mgurg\\Desktop\\BU OMCDS\\Semester-3\\datascience\\Lib\\site-packages\\sklearn\\linear_model\\_coordinate_descent.py:695: ConvergenceWarning: Objective did not converge. You might want to increase the number of iterations, check the scale of the features or consider increasing regularisation. Duality gap: 9.110e+02, tolerance: 1.011e+01\n",
      "  model = cd_fast.enet_coordinate_descent(\n",
      "c:\\Users\\mgurg\\Desktop\\BU OMCDS\\Semester-3\\datascience\\Lib\\site-packages\\sklearn\\linear_model\\_coordinate_descent.py:695: ConvergenceWarning: Objective did not converge. You might want to increase the number of iterations, check the scale of the features or consider increasing regularisation. Duality gap: 2.704e+03, tolerance: 9.442e+00\n",
      "  model = cd_fast.enet_coordinate_descent(\n",
      "c:\\Users\\mgurg\\Desktop\\BU OMCDS\\Semester-3\\datascience\\Lib\\site-packages\\sklearn\\linear_model\\_coordinate_descent.py:695: ConvergenceWarning: Objective did not converge. You might want to increase the number of iterations, check the scale of the features or consider increasing regularisation. Duality gap: 1.106e+04, tolerance: 9.582e+00\n",
      "  model = cd_fast.enet_coordinate_descent(\n",
      "c:\\Users\\mgurg\\Desktop\\BU OMCDS\\Semester-3\\datascience\\Lib\\site-packages\\sklearn\\linear_model\\_coordinate_descent.py:695: ConvergenceWarning: Objective did not converge. You might want to increase the number of iterations, check the scale of the features or consider increasing regularisation. Duality gap: 1.102e+04, tolerance: 9.448e+00\n",
      "  model = cd_fast.enet_coordinate_descent(\n",
      "c:\\Users\\mgurg\\Desktop\\BU OMCDS\\Semester-3\\datascience\\Lib\\site-packages\\sklearn\\linear_model\\_coordinate_descent.py:695: ConvergenceWarning: Objective did not converge. You might want to increase the number of iterations, check the scale of the features or consider increasing regularisation. Duality gap: 7.978e+03, tolerance: 1.044e+01\n",
      "  model = cd_fast.enet_coordinate_descent(\n",
      "c:\\Users\\mgurg\\Desktop\\BU OMCDS\\Semester-3\\datascience\\Lib\\site-packages\\sklearn\\linear_model\\_coordinate_descent.py:695: ConvergenceWarning: Objective did not converge. You might want to increase the number of iterations, check the scale of the features or consider increasing regularisation. Duality gap: 1.266e+03, tolerance: 9.988e+00\n",
      "  model = cd_fast.enet_coordinate_descent(\n",
      "c:\\Users\\mgurg\\Desktop\\BU OMCDS\\Semester-3\\datascience\\Lib\\site-packages\\sklearn\\linear_model\\_coordinate_descent.py:695: ConvergenceWarning: Objective did not converge. You might want to increase the number of iterations, check the scale of the features or consider increasing regularisation. Duality gap: 6.590e+03, tolerance: 9.890e+00\n",
      "  model = cd_fast.enet_coordinate_descent(\n",
      "c:\\Users\\mgurg\\Desktop\\BU OMCDS\\Semester-3\\datascience\\Lib\\site-packages\\sklearn\\linear_model\\_coordinate_descent.py:695: ConvergenceWarning: Objective did not converge. You might want to increase the number of iterations, check the scale of the features or consider increasing regularisation. Duality gap: 3.519e+03, tolerance: 9.330e+00\n",
      "  model = cd_fast.enet_coordinate_descent(\n",
      "c:\\Users\\mgurg\\Desktop\\BU OMCDS\\Semester-3\\datascience\\Lib\\site-packages\\sklearn\\linear_model\\_coordinate_descent.py:695: ConvergenceWarning: Objective did not converge. You might want to increase the number of iterations, check the scale of the features or consider increasing regularisation. Duality gap: 7.672e+01, tolerance: 1.000e+01\n",
      "  model = cd_fast.enet_coordinate_descent(\n",
      "c:\\Users\\mgurg\\Desktop\\BU OMCDS\\Semester-3\\datascience\\Lib\\site-packages\\sklearn\\linear_model\\_coordinate_descent.py:695: ConvergenceWarning: Objective did not converge. You might want to increase the number of iterations, check the scale of the features or consider increasing regularisation. Duality gap: 7.540e+03, tolerance: 9.420e+00\n",
      "  model = cd_fast.enet_coordinate_descent(\n",
      "c:\\Users\\mgurg\\Desktop\\BU OMCDS\\Semester-3\\datascience\\Lib\\site-packages\\sklearn\\linear_model\\_coordinate_descent.py:695: ConvergenceWarning: Objective did not converge. You might want to increase the number of iterations, check the scale of the features or consider increasing regularisation. Duality gap: 6.782e+02, tolerance: 1.014e+01\n",
      "  model = cd_fast.enet_coordinate_descent(\n",
      "c:\\Users\\mgurg\\Desktop\\BU OMCDS\\Semester-3\\datascience\\Lib\\site-packages\\sklearn\\linear_model\\_coordinate_descent.py:695: ConvergenceWarning: Objective did not converge. You might want to increase the number of iterations, check the scale of the features or consider increasing regularisation. Duality gap: 1.765e+02, tolerance: 1.021e+01\n",
      "  model = cd_fast.enet_coordinate_descent(\n",
      "c:\\Users\\mgurg\\Desktop\\BU OMCDS\\Semester-3\\datascience\\Lib\\site-packages\\sklearn\\linear_model\\_coordinate_descent.py:695: ConvergenceWarning: Objective did not converge. You might want to increase the number of iterations, check the scale of the features or consider increasing regularisation. Duality gap: 4.986e+03, tolerance: 9.323e+00\n",
      "  model = cd_fast.enet_coordinate_descent(\n",
      "c:\\Users\\mgurg\\Desktop\\BU OMCDS\\Semester-3\\datascience\\Lib\\site-packages\\sklearn\\linear_model\\_coordinate_descent.py:695: ConvergenceWarning: Objective did not converge. You might want to increase the number of iterations, check the scale of the features or consider increasing regularisation. Duality gap: 8.699e+02, tolerance: 1.052e+01\n",
      "  model = cd_fast.enet_coordinate_descent(\n",
      "c:\\Users\\mgurg\\Desktop\\BU OMCDS\\Semester-3\\datascience\\Lib\\site-packages\\sklearn\\linear_model\\_coordinate_descent.py:695: ConvergenceWarning: Objective did not converge. You might want to increase the number of iterations, check the scale of the features or consider increasing regularisation. Duality gap: 5.383e+02, tolerance: 1.007e+01\n",
      "  model = cd_fast.enet_coordinate_descent(\n",
      "c:\\Users\\mgurg\\Desktop\\BU OMCDS\\Semester-3\\datascience\\Lib\\site-packages\\sklearn\\linear_model\\_coordinate_descent.py:695: ConvergenceWarning: Objective did not converge. You might want to increase the number of iterations, check the scale of the features or consider increasing regularisation. Duality gap: 1.117e+04, tolerance: 8.850e+00\n",
      "  model = cd_fast.enet_coordinate_descent(\n",
      "c:\\Users\\mgurg\\Desktop\\BU OMCDS\\Semester-3\\datascience\\Lib\\site-packages\\sklearn\\linear_model\\_coordinate_descent.py:695: ConvergenceWarning: Objective did not converge. You might want to increase the number of iterations, check the scale of the features or consider increasing regularisation. Duality gap: 5.225e+03, tolerance: 1.031e+01\n",
      "  model = cd_fast.enet_coordinate_descent(\n",
      "c:\\Users\\mgurg\\Desktop\\BU OMCDS\\Semester-3\\datascience\\Lib\\site-packages\\sklearn\\linear_model\\_coordinate_descent.py:695: ConvergenceWarning: Objective did not converge. You might want to increase the number of iterations, check the scale of the features or consider increasing regularisation. Duality gap: 7.820e+02, tolerance: 9.326e+00\n",
      "  model = cd_fast.enet_coordinate_descent(\n",
      "c:\\Users\\mgurg\\Desktop\\BU OMCDS\\Semester-3\\datascience\\Lib\\site-packages\\sklearn\\linear_model\\_coordinate_descent.py:695: ConvergenceWarning: Objective did not converge. You might want to increase the number of iterations, check the scale of the features or consider increasing regularisation. Duality gap: 1.240e+04, tolerance: 9.810e+00\n",
      "  model = cd_fast.enet_coordinate_descent(\n",
      "c:\\Users\\mgurg\\Desktop\\BU OMCDS\\Semester-3\\datascience\\Lib\\site-packages\\sklearn\\linear_model\\_coordinate_descent.py:695: ConvergenceWarning: Objective did not converge. You might want to increase the number of iterations, check the scale of the features or consider increasing regularisation. Duality gap: 6.346e+02, tolerance: 9.272e+00\n",
      "  model = cd_fast.enet_coordinate_descent(\n",
      "c:\\Users\\mgurg\\Desktop\\BU OMCDS\\Semester-3\\datascience\\Lib\\site-packages\\sklearn\\linear_model\\_coordinate_descent.py:695: ConvergenceWarning: Objective did not converge. You might want to increase the number of iterations, check the scale of the features or consider increasing regularisation. Duality gap: 3.411e+03, tolerance: 9.666e+00\n",
      "  model = cd_fast.enet_coordinate_descent(\n"
     ]
    },
    {
     "name": "stdout",
     "output_type": "stream",
     "text": [
      "RMSE: 19.277519945474\n"
     ]
    },
    {
     "name": "stderr",
     "output_type": "stream",
     "text": [
      "c:\\Users\\mgurg\\Desktop\\BU OMCDS\\Semester-3\\datascience\\Lib\\site-packages\\sklearn\\linear_model\\_coordinate_descent.py:695: ConvergenceWarning: Objective did not converge. You might want to increase the number of iterations, check the scale of the features or consider increasing regularisation. Duality gap: 2.846e+03, tolerance: 9.867e+00\n",
      "  model = cd_fast.enet_coordinate_descent(\n",
      "c:\\Users\\mgurg\\Desktop\\BU OMCDS\\Semester-3\\datascience\\Lib\\site-packages\\sklearn\\linear_model\\_coordinate_descent.py:695: ConvergenceWarning: Objective did not converge. You might want to increase the number of iterations, check the scale of the features or consider increasing regularisation. Duality gap: 4.525e+03, tolerance: 1.046e+01\n",
      "  model = cd_fast.enet_coordinate_descent(\n",
      "c:\\Users\\mgurg\\Desktop\\BU OMCDS\\Semester-3\\datascience\\Lib\\site-packages\\sklearn\\linear_model\\_coordinate_descent.py:695: ConvergenceWarning: Objective did not converge. You might want to increase the number of iterations, check the scale of the features or consider increasing regularisation. Duality gap: 7.873e+03, tolerance: 9.940e+00\n",
      "  model = cd_fast.enet_coordinate_descent(\n",
      "c:\\Users\\mgurg\\Desktop\\BU OMCDS\\Semester-3\\datascience\\Lib\\site-packages\\sklearn\\linear_model\\_coordinate_descent.py:695: ConvergenceWarning: Objective did not converge. You might want to increase the number of iterations, check the scale of the features or consider increasing regularisation. Duality gap: 1.441e+04, tolerance: 8.886e+00\n",
      "  model = cd_fast.enet_coordinate_descent(\n",
      "c:\\Users\\mgurg\\Desktop\\BU OMCDS\\Semester-3\\datascience\\Lib\\site-packages\\sklearn\\linear_model\\_coordinate_descent.py:695: ConvergenceWarning: Objective did not converge. You might want to increase the number of iterations, check the scale of the features or consider increasing regularisation. Duality gap: 5.228e+03, tolerance: 1.015e+01\n",
      "  model = cd_fast.enet_coordinate_descent(\n",
      "c:\\Users\\mgurg\\Desktop\\BU OMCDS\\Semester-3\\datascience\\Lib\\site-packages\\sklearn\\linear_model\\_coordinate_descent.py:695: ConvergenceWarning: Objective did not converge. You might want to increase the number of iterations, check the scale of the features or consider increasing regularisation. Duality gap: 5.497e+02, tolerance: 1.014e+01\n",
      "  model = cd_fast.enet_coordinate_descent(\n",
      "c:\\Users\\mgurg\\Desktop\\BU OMCDS\\Semester-3\\datascience\\Lib\\site-packages\\sklearn\\linear_model\\_coordinate_descent.py:695: ConvergenceWarning: Objective did not converge. You might want to increase the number of iterations, check the scale of the features or consider increasing regularisation. Duality gap: 1.539e+03, tolerance: 9.891e+00\n",
      "  model = cd_fast.enet_coordinate_descent(\n",
      "c:\\Users\\mgurg\\Desktop\\BU OMCDS\\Semester-3\\datascience\\Lib\\site-packages\\sklearn\\linear_model\\_coordinate_descent.py:695: ConvergenceWarning: Objective did not converge. You might want to increase the number of iterations, check the scale of the features or consider increasing regularisation. Duality gap: 7.814e+02, tolerance: 9.930e+00\n",
      "  model = cd_fast.enet_coordinate_descent(\n",
      "c:\\Users\\mgurg\\Desktop\\BU OMCDS\\Semester-3\\datascience\\Lib\\site-packages\\sklearn\\linear_model\\_coordinate_descent.py:695: ConvergenceWarning: Objective did not converge. You might want to increase the number of iterations, check the scale of the features or consider increasing regularisation. Duality gap: 8.481e+03, tolerance: 9.641e+00\n",
      "  model = cd_fast.enet_coordinate_descent(\n",
      "c:\\Users\\mgurg\\Desktop\\BU OMCDS\\Semester-3\\datascience\\Lib\\site-packages\\sklearn\\linear_model\\_coordinate_descent.py:695: ConvergenceWarning: Objective did not converge. You might want to increase the number of iterations, check the scale of the features or consider increasing regularisation. Duality gap: 1.363e+04, tolerance: 9.660e+00\n",
      "  model = cd_fast.enet_coordinate_descent(\n",
      "c:\\Users\\mgurg\\Desktop\\BU OMCDS\\Semester-3\\datascience\\Lib\\site-packages\\sklearn\\linear_model\\_coordinate_descent.py:695: ConvergenceWarning: Objective did not converge. You might want to increase the number of iterations, check the scale of the features or consider increasing regularisation. Duality gap: 5.898e+03, tolerance: 9.749e+00\n",
      "  model = cd_fast.enet_coordinate_descent(\n",
      "c:\\Users\\mgurg\\Desktop\\BU OMCDS\\Semester-3\\datascience\\Lib\\site-packages\\sklearn\\linear_model\\_coordinate_descent.py:695: ConvergenceWarning: Objective did not converge. You might want to increase the number of iterations, check the scale of the features or consider increasing regularisation. Duality gap: 7.822e+01, tolerance: 9.832e+00\n",
      "  model = cd_fast.enet_coordinate_descent(\n",
      "c:\\Users\\mgurg\\Desktop\\BU OMCDS\\Semester-3\\datascience\\Lib\\site-packages\\sklearn\\linear_model\\_coordinate_descent.py:695: ConvergenceWarning: Objective did not converge. You might want to increase the number of iterations, check the scale of the features or consider increasing regularisation. Duality gap: 4.360e+03, tolerance: 1.010e+01\n",
      "  model = cd_fast.enet_coordinate_descent(\n",
      "c:\\Users\\mgurg\\Desktop\\BU OMCDS\\Semester-3\\datascience\\Lib\\site-packages\\sklearn\\linear_model\\_coordinate_descent.py:695: ConvergenceWarning: Objective did not converge. You might want to increase the number of iterations, check the scale of the features or consider increasing regularisation. Duality gap: 2.689e+02, tolerance: 1.003e+01\n",
      "  model = cd_fast.enet_coordinate_descent(\n",
      "c:\\Users\\mgurg\\Desktop\\BU OMCDS\\Semester-3\\datascience\\Lib\\site-packages\\sklearn\\linear_model\\_coordinate_descent.py:695: ConvergenceWarning: Objective did not converge. You might want to increase the number of iterations, check the scale of the features or consider increasing regularisation. Duality gap: 5.586e+03, tolerance: 9.892e+00\n",
      "  model = cd_fast.enet_coordinate_descent(\n",
      "c:\\Users\\mgurg\\Desktop\\BU OMCDS\\Semester-3\\datascience\\Lib\\site-packages\\sklearn\\linear_model\\_coordinate_descent.py:695: ConvergenceWarning: Objective did not converge. You might want to increase the number of iterations, check the scale of the features or consider increasing regularisation. Duality gap: 1.548e+04, tolerance: 9.183e+00\n",
      "  model = cd_fast.enet_coordinate_descent(\n"
     ]
    },
    {
     "data": {
      "text/plain": [
       "(np.float64(61.57378223495702), np.float64(18.781116908220827))"
      ]
     },
     "execution_count": 6,
     "metadata": {},
     "output_type": "execute_result"
    }
   ],
   "source": [
    "# Team stats to predict inj w lasso\n",
    "\n",
    "lasso_team = Lasso(alpha=1.0)\n",
    "lasso_scores_team = cross_val_score(estimator=lasso_team, X=X_team, y=y_team, scoring='neg_mean_squared_error', cv=rkf)\n",
    "print(f'RMSE: {np.sqrt(-lasso_scores_team.mean())}')\n",
    "scores_team.append(np.sqrt(-lasso_scores_team.mean()))\n",
    "\n",
    "# pretty bad error in this trial... Mean Error: 19.277519945474 which is about the standard deviation of injuries by team by season\n",
    "y_team.mean(), y_team.std()"
   ]
  },
  {
   "cell_type": "code",
   "execution_count": 7,
   "id": "ac845540",
   "metadata": {},
   "outputs": [
    {
     "name": "stdout",
     "output_type": "stream",
     "text": [
      "RMSE: 0.08225822492277364\n"
     ]
    },
    {
     "data": {
      "text/plain": [
       "(np.float64(0.5063553008595988), np.float64(0.18927236610492845))"
      ]
     },
     "execution_count": 7,
     "metadata": {},
     "output_type": "execute_result"
    }
   ],
   "source": [
    "# Team stats to predict win_loss_perc with lasso (inj as a feature)\n",
    "lasso_team2 = Lasso(alpha=1.0)\n",
    "lasso_scores_team2 = cross_val_score(estimator=lasso_team2, X=X_team2, y=y_team2, scoring='neg_mean_squared_error', cv=rkf)\n",
    "print(f'RMSE: {np.sqrt(-lasso_scores_team2.mean())}')\n",
    "scores_team2.append(np.sqrt(-lasso_scores_team2.mean()))\n",
    "\n",
    "y_team2.mean(), y_team2.std()"
   ]
  },
  {
   "cell_type": "code",
   "execution_count": 8,
   "id": "acc9f1f6",
   "metadata": {},
   "outputs": [
    {
     "name": "stdout",
     "output_type": "stream",
     "text": [
      "RMSE: 4.6972056150235675\n"
     ]
    },
    {
     "data": {
      "text/plain": [
       "(np.float64(0.6937142857142857), np.float64(4.79569235090927))"
      ]
     },
     "execution_count": 8,
     "metadata": {},
     "output_type": "execute_result"
    }
   ],
   "source": [
    "# wr play by play to predict injury duration with lasso\n",
    "lasso_wr = Lasso(alpha=1.0)\n",
    "lasso_scores_wr = cross_val_score(estimator=lasso_wr, X=X_wr, y=y_wr, scoring='neg_mean_squared_error', cv=rkf)\n",
    "print(f'RMSE: {np.sqrt(-lasso_scores_wr.mean())}')\n",
    "scores_wr.append(np.sqrt(-lasso_scores_wr.mean()))\n",
    "\n",
    "y_wr.mean(), y_wr.std()"
   ]
  },
  {
   "cell_type": "markdown",
   "id": "0c4c4386",
   "metadata": {},
   "source": [
    "For Lasso, the team stats to injury prediction was not effective. Team stats (incl injuries) to win percentage was effective, but I suspect that it excluded injuries. WR stats were within one standard deviation of injury prediction, though I think logistic regression on boolean injury is well suited to this."
   ]
  },
  {
   "cell_type": "markdown",
   "id": "c03cff4c",
   "metadata": {},
   "source": [
    "### Ridge Regression"
   ]
  },
  {
   "cell_type": "code",
   "execution_count": 9,
   "id": "89b93e26",
   "metadata": {},
   "outputs": [
    {
     "name": "stdout",
     "output_type": "stream",
     "text": [
      "RMSE: 19.42223157485481\n"
     ]
    },
    {
     "data": {
      "text/plain": [
       "(np.float64(61.57378223495702), np.float64(18.781116908220827))"
      ]
     },
     "execution_count": 9,
     "metadata": {},
     "output_type": "execute_result"
    }
   ],
   "source": [
    "# Team stats to predict inj w Ridge\n",
    "\n",
    "ridge_team = Ridge(alpha=5.0)\n",
    "ridge_scores_team = cross_val_score(estimator=ridge_team, X=X_team, y=y_team, scoring='neg_mean_squared_error', cv=rkf)\n",
    "print(f'RMSE: {np.sqrt(-ridge_scores_team.mean())}')\n",
    "scores_team.append(np.sqrt(-ridge_scores_team.mean()))\n",
    "\n",
    "y_team.mean(), y_team.std()"
   ]
  },
  {
   "cell_type": "code",
   "execution_count": 10,
   "id": "267c5358",
   "metadata": {},
   "outputs": [
    {
     "name": "stdout",
     "output_type": "stream",
     "text": [
      "RMSE: 0.08378747936797754\n"
     ]
    },
    {
     "data": {
      "text/plain": [
       "(np.float64(0.5063553008595988), np.float64(0.18927236610492845))"
      ]
     },
     "execution_count": 10,
     "metadata": {},
     "output_type": "execute_result"
    }
   ],
   "source": [
    "# Team stats to predict win_loss_perc w Ridge\n",
    "\n",
    "ridge_team2 = Ridge(alpha=5.0)\n",
    "ridge_scores_team2 = cross_val_score(estimator=ridge_team2, X=X_team2, y=y_team2, scoring='neg_mean_squared_error', cv=rkf)\n",
    "print(f'RMSE: {np.sqrt(-ridge_scores_team2.mean())}')\n",
    "scores_team2.append(np.sqrt(-ridge_scores_team2.mean()))\n",
    "\n",
    "y_team2.mean(), y_team2.std()"
   ]
  },
  {
   "cell_type": "code",
   "execution_count": 11,
   "id": "5ae68713",
   "metadata": {},
   "outputs": [
    {
     "name": "stdout",
     "output_type": "stream",
     "text": [
      "RMSE: 3.934330273171552\n"
     ]
    },
    {
     "data": {
      "text/plain": [
       "(np.float64(0.6937142857142857), np.float64(4.79569235090927))"
      ]
     },
     "execution_count": 11,
     "metadata": {},
     "output_type": "execute_result"
    }
   ],
   "source": [
    "# wr play by play to predict injury duration with ridge (inj as a feature)\n",
    "ridge_wr = Ridge(alpha=1)\n",
    "ridge_scores_wr = cross_val_score(estimator=ridge_wr, X=X_wr, y=y_wr, scoring='neg_mean_squared_error', cv=rkf)\n",
    "print(f'RMSE: {np.sqrt(-ridge_scores_wr.mean())}')\n",
    "scores_wr.append(np.sqrt(-ridge_scores_wr.mean()))\n",
    "\n",
    "y_wr.mean(), y_wr.std()"
   ]
  },
  {
   "cell_type": "markdown",
   "id": "7489c093",
   "metadata": {},
   "source": [
    "Ridge was slightly worse error wise for the two Team based models, but was slightly better for the WR play by play. "
   ]
  },
  {
   "cell_type": "markdown",
   "id": "ec6faed2",
   "metadata": {},
   "source": [
    "### Elastic Net Regression"
   ]
  },
  {
   "cell_type": "code",
   "execution_count": 12,
   "id": "c1956f02",
   "metadata": {},
   "outputs": [
    {
     "name": "stdout",
     "output_type": "stream",
     "text": [
      "RMSE: 18.771746196567424\n"
     ]
    },
    {
     "data": {
      "text/plain": [
       "(np.float64(61.57378223495702), np.float64(18.781116908220827))"
      ]
     },
     "execution_count": 12,
     "metadata": {},
     "output_type": "execute_result"
    }
   ],
   "source": [
    "# Team stats to predict inj w enet\n",
    "\n",
    "enet_team = ElasticNet(alpha=70.0)\n",
    "enet_scores_team = cross_val_score(estimator=enet_team, X=X_team, y=y_team, scoring='neg_mean_squared_error', cv=rkf)\n",
    "print(f'RMSE: {np.sqrt(-enet_scores_team.mean())}')\n",
    "scores_team.append(np.sqrt(-enet_scores_team.mean()))\n",
    "\n",
    "y_team.mean(), y_team.std()"
   ]
  },
  {
   "cell_type": "code",
   "execution_count": 13,
   "id": "04931ac1",
   "metadata": {},
   "outputs": [
    {
     "name": "stdout",
     "output_type": "stream",
     "text": [
      "RMSE: 0.08161886218000731\n"
     ]
    },
    {
     "data": {
      "text/plain": [
       "(np.float64(0.5063553008595988), np.float64(0.18927236610492845))"
      ]
     },
     "execution_count": 13,
     "metadata": {},
     "output_type": "execute_result"
    }
   ],
   "source": [
    "# Team stats to predict win_loss_perc w enet\n",
    "\n",
    "enet_team2 = ElasticNet(alpha=1)\n",
    "enet_scores_team2 = cross_val_score(estimator=enet_team2, X=X_team2, y=y_team2, scoring='neg_mean_squared_error', cv=rkf)\n",
    "print(f'RMSE: {np.sqrt(-enet_scores_team2.mean())}')\n",
    "scores_team2.append(np.sqrt(-enet_scores_team2.mean()))\n",
    "\n",
    "y_team2.mean(), y_team2.std()"
   ]
  },
  {
   "cell_type": "code",
   "execution_count": 14,
   "id": "83220208",
   "metadata": {},
   "outputs": [
    {
     "name": "stdout",
     "output_type": "stream",
     "text": [
      "RMSE: 4.694958295712256\n"
     ]
    },
    {
     "data": {
      "text/plain": [
       "(np.float64(0.6937142857142857), np.float64(4.79569235090927))"
      ]
     },
     "execution_count": 14,
     "metadata": {},
     "output_type": "execute_result"
    }
   ],
   "source": [
    "# wr play by play to predict injury duration with enet\n",
    "enet_wr = ElasticNet(alpha=1)\n",
    "enet_scores_wr = cross_val_score(estimator=enet_wr, X=X_wr, y=y_wr, scoring='neg_mean_squared_error', cv=rkf)\n",
    "print(f'RMSE: {np.sqrt(-enet_scores_wr.mean())}')\n",
    "scores_wr.append(np.sqrt(-enet_scores_wr.mean()))\n",
    "\n",
    "y_wr.mean(), y_wr.std()"
   ]
  },
  {
   "cell_type": "markdown",
   "id": "221bcb4d",
   "metadata": {},
   "source": [
    "Slightly better for the team predictions, worse for the wr play by play"
   ]
  },
  {
   "cell_type": "markdown",
   "id": "938f4bef",
   "metadata": {},
   "source": [
    "### Graphing Results"
   ]
  },
  {
   "cell_type": "code",
   "execution_count": 15,
   "id": "967213ed",
   "metadata": {},
   "outputs": [
    {
     "data": {
      "image/png": "[encoded data removed]",
      "text/plain": [
       "<Figure size 1500x700 with 1 Axes>"
      ]
     },
     "metadata": {},
     "output_type": "display_data"
    }
   ],
   "source": [
    "scores = (\n",
    "    [score / y_team.std() for score in scores_team] +\n",
    "    [score / y_team2.std() for score in scores_team2] +\n",
    "    [score / y_wr.std() for score in scores_wr]\n",
    ")\n",
    "labels = ['Team, Lasso', 'Team, Ridge', 'Team, Elastic Net', 'Team2, Lasso', 'Team2, Ridge', 'Team2, Elastic Net', 'WR, Lasso', 'WR, Ridge', 'WR, Elastic Net']\n",
    "\n",
    "plt.figure(figsize=(15, 7))\n",
    "plt.bar(labels, scores)\n",
    "plt.xticks(rotation=45)\n",
    "plt.title('Model scores as a fraction of Target Std Deviation')\n",
    "plt.ylabel('RMSE / Target Std Deviation')\n",
    "plt.xlabel('Dataset, Model')\n",
    "plt.show()"
   ]
  },
  {
   "cell_type": "markdown",
   "id": "28c4aa71",
   "metadata": {},
   "source": [
    "### Optimizing Alpha for best models"
   ]
  },
  {
   "cell_type": "code",
   "execution_count": 16,
   "id": "eff9f5f3",
   "metadata": {},
   "outputs": [
    {
     "name": "stderr",
     "output_type": "stream",
     "text": [
      "c:\\Users\\mgurg\\Desktop\\BU OMCDS\\Semester-3\\datascience\\Lib\\site-packages\\sklearn\\linear_model\\_coordinate_descent.py:695: ConvergenceWarning: Objective did not converge. You might want to increase the number of iterations, check the scale of the features or consider increasing regularisation. Duality gap: 3.235e+03, tolerance: 1.017e+01\n",
      "  model = cd_fast.enet_coordinate_descent(\n",
      "c:\\Users\\mgurg\\Desktop\\BU OMCDS\\Semester-3\\datascience\\Lib\\site-packages\\sklearn\\linear_model\\_coordinate_descent.py:695: ConvergenceWarning: Objective did not converge. You might want to increase the number of iterations, check the scale of the features or consider increasing regularisation. Duality gap: 4.545e+03, tolerance: 9.992e+00\n",
      "  model = cd_fast.enet_coordinate_descent(\n",
      "c:\\Users\\mgurg\\Desktop\\BU OMCDS\\Semester-3\\datascience\\Lib\\site-packages\\sklearn\\linear_model\\_coordinate_descent.py:695: ConvergenceWarning: Objective did not converge. You might want to increase the number of iterations, check the scale of the features or consider increasing regularisation. Duality gap: 3.656e+03, tolerance: 9.545e+00\n",
      "  model = cd_fast.enet_coordinate_descent(\n",
      "c:\\Users\\mgurg\\Desktop\\BU OMCDS\\Semester-3\\datascience\\Lib\\site-packages\\sklearn\\linear_model\\_coordinate_descent.py:695: ConvergenceWarning: Objective did not converge. You might want to increase the number of iterations, check the scale of the features or consider increasing regularisation. Duality gap: 2.474e+04, tolerance: 9.504e+00\n",
      "  model = cd_fast.enet_coordinate_descent(\n",
      "c:\\Users\\mgurg\\Desktop\\BU OMCDS\\Semester-3\\datascience\\Lib\\site-packages\\sklearn\\linear_model\\_coordinate_descent.py:695: ConvergenceWarning: Objective did not converge. You might want to increase the number of iterations, check the scale of the features or consider increasing regularisation. Duality gap: 1.353e+04, tolerance: 9.846e+00\n",
      "  model = cd_fast.enet_coordinate_descent(\n",
      "c:\\Users\\mgurg\\Desktop\\BU OMCDS\\Semester-3\\datascience\\Lib\\site-packages\\sklearn\\linear_model\\_coordinate_descent.py:695: ConvergenceWarning: Objective did not converge. You might want to increase the number of iterations, check the scale of the features or consider increasing regularisation. Duality gap: 1.004e+02, tolerance: 1.038e+01\n",
      "  model = cd_fast.enet_coordinate_descent(\n",
      "c:\\Users\\mgurg\\Desktop\\BU OMCDS\\Semester-3\\datascience\\Lib\\site-packages\\sklearn\\linear_model\\_coordinate_descent.py:695: ConvergenceWarning: Objective did not converge. You might want to increase the number of iterations, check the scale of the features or consider increasing regularisation. Duality gap: 1.785e+04, tolerance: 9.372e+00\n",
      "  model = cd_fast.enet_coordinate_descent(\n",
      "c:\\Users\\mgurg\\Desktop\\BU OMCDS\\Semester-3\\datascience\\Lib\\site-packages\\sklearn\\linear_model\\_coordinate_descent.py:695: ConvergenceWarning: Objective did not converge. You might want to increase the number of iterations, check the scale of the features or consider increasing regularisation. Duality gap: 3.827e+02, tolerance: 9.890e+00\n",
      "  model = cd_fast.enet_coordinate_descent(\n",
      "c:\\Users\\mgurg\\Desktop\\BU OMCDS\\Semester-3\\datascience\\Lib\\site-packages\\sklearn\\linear_model\\_coordinate_descent.py:695: ConvergenceWarning: Objective did not converge. You might want to increase the number of iterations, check the scale of the features or consider increasing regularisation. Duality gap: 1.797e+03, tolerance: 9.980e+00\n",
      "  model = cd_fast.enet_coordinate_descent(\n",
      "c:\\Users\\mgurg\\Desktop\\BU OMCDS\\Semester-3\\datascience\\Lib\\site-packages\\sklearn\\linear_model\\_coordinate_descent.py:695: ConvergenceWarning: Objective did not converge. You might want to increase the number of iterations, check the scale of the features or consider increasing regularisation. Duality gap: 1.385e+04, tolerance: 9.456e+00\n",
      "  model = cd_fast.enet_coordinate_descent(\n",
      "c:\\Users\\mgurg\\Desktop\\BU OMCDS\\Semester-3\\datascience\\Lib\\site-packages\\sklearn\\linear_model\\_coordinate_descent.py:695: ConvergenceWarning: Objective did not converge. You might want to increase the number of iterations, check the scale of the features or consider increasing regularisation. Duality gap: 1.186e+04, tolerance: 9.868e+00\n",
      "  model = cd_fast.enet_coordinate_descent(\n",
      "c:\\Users\\mgurg\\Desktop\\BU OMCDS\\Semester-3\\datascience\\Lib\\site-packages\\sklearn\\linear_model\\_coordinate_descent.py:695: ConvergenceWarning: Objective did not converge. You might want to increase the number of iterations, check the scale of the features or consider increasing regularisation. Duality gap: 2.045e+03, tolerance: 1.009e+01\n",
      "  model = cd_fast.enet_coordinate_descent(\n",
      "c:\\Users\\mgurg\\Desktop\\BU OMCDS\\Semester-3\\datascience\\Lib\\site-packages\\sklearn\\linear_model\\_coordinate_descent.py:695: ConvergenceWarning: Objective did not converge. You might want to increase the number of iterations, check the scale of the features or consider increasing regularisation. Duality gap: 8.110e+03, tolerance: 1.011e+01\n",
      "  model = cd_fast.enet_coordinate_descent(\n",
      "c:\\Users\\mgurg\\Desktop\\BU OMCDS\\Semester-3\\datascience\\Lib\\site-packages\\sklearn\\linear_model\\_coordinate_descent.py:695: ConvergenceWarning: Objective did not converge. You might want to increase the number of iterations, check the scale of the features or consider increasing regularisation. Duality gap: 1.263e+04, tolerance: 9.442e+00\n",
      "  model = cd_fast.enet_coordinate_descent(\n",
      "c:\\Users\\mgurg\\Desktop\\BU OMCDS\\Semester-3\\datascience\\Lib\\site-packages\\sklearn\\linear_model\\_coordinate_descent.py:695: ConvergenceWarning: Objective did not converge. You might want to increase the number of iterations, check the scale of the features or consider increasing regularisation. Duality gap: 1.328e+04, tolerance: 9.582e+00\n",
      "  model = cd_fast.enet_coordinate_descent(\n",
      "c:\\Users\\mgurg\\Desktop\\BU OMCDS\\Semester-3\\datascience\\Lib\\site-packages\\sklearn\\linear_model\\_coordinate_descent.py:695: ConvergenceWarning: Objective did not converge. You might want to increase the number of iterations, check the scale of the features or consider increasing regularisation. Duality gap: 1.937e+04, tolerance: 9.448e+00\n",
      "  model = cd_fast.enet_coordinate_descent(\n",
      "c:\\Users\\mgurg\\Desktop\\BU OMCDS\\Semester-3\\datascience\\Lib\\site-packages\\sklearn\\linear_model\\_coordinate_descent.py:695: ConvergenceWarning: Objective did not converge. You might want to increase the number of iterations, check the scale of the features or consider increasing regularisation. Duality gap: 1.837e+04, tolerance: 1.044e+01\n",
      "  model = cd_fast.enet_coordinate_descent(\n",
      "c:\\Users\\mgurg\\Desktop\\BU OMCDS\\Semester-3\\datascience\\Lib\\site-packages\\sklearn\\linear_model\\_coordinate_descent.py:695: ConvergenceWarning: Objective did not converge. You might want to increase the number of iterations, check the scale of the features or consider increasing regularisation. Duality gap: 8.526e+02, tolerance: 9.988e+00\n",
      "  model = cd_fast.enet_coordinate_descent(\n",
      "c:\\Users\\mgurg\\Desktop\\BU OMCDS\\Semester-3\\datascience\\Lib\\site-packages\\sklearn\\linear_model\\_coordinate_descent.py:695: ConvergenceWarning: Objective did not converge. You might want to increase the number of iterations, check the scale of the features or consider increasing regularisation. Duality gap: 9.921e+03, tolerance: 9.890e+00\n",
      "  model = cd_fast.enet_coordinate_descent(\n",
      "c:\\Users\\mgurg\\Desktop\\BU OMCDS\\Semester-3\\datascience\\Lib\\site-packages\\sklearn\\linear_model\\_coordinate_descent.py:695: ConvergenceWarning: Objective did not converge. You might want to increase the number of iterations, check the scale of the features or consider increasing regularisation. Duality gap: 9.757e+03, tolerance: 9.330e+00\n",
      "  model = cd_fast.enet_coordinate_descent(\n",
      "c:\\Users\\mgurg\\Desktop\\BU OMCDS\\Semester-3\\datascience\\Lib\\site-packages\\sklearn\\linear_model\\_coordinate_descent.py:695: ConvergenceWarning: Objective did not converge. You might want to increase the number of iterations, check the scale of the features or consider increasing regularisation. Duality gap: 3.188e+03, tolerance: 1.000e+01\n",
      "  model = cd_fast.enet_coordinate_descent(\n",
      "c:\\Users\\mgurg\\Desktop\\BU OMCDS\\Semester-3\\datascience\\Lib\\site-packages\\sklearn\\linear_model\\_coordinate_descent.py:695: ConvergenceWarning: Objective did not converge. You might want to increase the number of iterations, check the scale of the features or consider increasing regularisation. Duality gap: 1.384e+04, tolerance: 9.420e+00\n",
      "  model = cd_fast.enet_coordinate_descent(\n",
      "c:\\Users\\mgurg\\Desktop\\BU OMCDS\\Semester-3\\datascience\\Lib\\site-packages\\sklearn\\linear_model\\_coordinate_descent.py:695: ConvergenceWarning: Objective did not converge. You might want to increase the number of iterations, check the scale of the features or consider increasing regularisation. Duality gap: 2.578e+03, tolerance: 1.014e+01\n",
      "  model = cd_fast.enet_coordinate_descent(\n",
      "c:\\Users\\mgurg\\Desktop\\BU OMCDS\\Semester-3\\datascience\\Lib\\site-packages\\sklearn\\linear_model\\_coordinate_descent.py:695: ConvergenceWarning: Objective did not converge. You might want to increase the number of iterations, check the scale of the features or consider increasing regularisation. Duality gap: 5.480e+03, tolerance: 1.021e+01\n",
      "  model = cd_fast.enet_coordinate_descent(\n",
      "c:\\Users\\mgurg\\Desktop\\BU OMCDS\\Semester-3\\datascience\\Lib\\site-packages\\sklearn\\linear_model\\_coordinate_descent.py:695: ConvergenceWarning: Objective did not converge. You might want to increase the number of iterations, check the scale of the features or consider increasing regularisation. Duality gap: 2.387e+03, tolerance: 9.323e+00\n",
      "  model = cd_fast.enet_coordinate_descent(\n",
      "c:\\Users\\mgurg\\Desktop\\BU OMCDS\\Semester-3\\datascience\\Lib\\site-packages\\sklearn\\linear_model\\_coordinate_descent.py:695: ConvergenceWarning: Objective did not converge. You might want to increase the number of iterations, check the scale of the features or consider increasing regularisation. Duality gap: 1.112e+03, tolerance: 1.052e+01\n",
      "  model = cd_fast.enet_coordinate_descent(\n",
      "c:\\Users\\mgurg\\Desktop\\BU OMCDS\\Semester-3\\datascience\\Lib\\site-packages\\sklearn\\linear_model\\_coordinate_descent.py:695: ConvergenceWarning: Objective did not converge. You might want to increase the number of iterations, check the scale of the features or consider increasing regularisation. Duality gap: 1.645e+03, tolerance: 1.007e+01\n",
      "  model = cd_fast.enet_coordinate_descent(\n",
      "c:\\Users\\mgurg\\Desktop\\BU OMCDS\\Semester-3\\datascience\\Lib\\site-packages\\sklearn\\linear_model\\_coordinate_descent.py:695: ConvergenceWarning: Objective did not converge. You might want to increase the number of iterations, check the scale of the features or consider increasing regularisation. Duality gap: 1.710e+04, tolerance: 8.850e+00\n",
      "  model = cd_fast.enet_coordinate_descent(\n",
      "c:\\Users\\mgurg\\Desktop\\BU OMCDS\\Semester-3\\datascience\\Lib\\site-packages\\sklearn\\linear_model\\_coordinate_descent.py:695: ConvergenceWarning: Objective did not converge. You might want to increase the number of iterations, check the scale of the features or consider increasing regularisation. Duality gap: 1.836e+01, tolerance: 1.031e+01\n",
      "  model = cd_fast.enet_coordinate_descent(\n",
      "c:\\Users\\mgurg\\Desktop\\BU OMCDS\\Semester-3\\datascience\\Lib\\site-packages\\sklearn\\linear_model\\_coordinate_descent.py:695: ConvergenceWarning: Objective did not converge. You might want to increase the number of iterations, check the scale of the features or consider increasing regularisation. Duality gap: 2.773e+03, tolerance: 9.326e+00\n",
      "  model = cd_fast.enet_coordinate_descent(\n",
      "c:\\Users\\mgurg\\Desktop\\BU OMCDS\\Semester-3\\datascience\\Lib\\site-packages\\sklearn\\linear_model\\_coordinate_descent.py:695: ConvergenceWarning: Objective did not converge. You might want to increase the number of iterations, check the scale of the features or consider increasing regularisation. Duality gap: 1.810e+04, tolerance: 9.810e+00\n",
      "  model = cd_fast.enet_coordinate_descent(\n",
      "c:\\Users\\mgurg\\Desktop\\BU OMCDS\\Semester-3\\datascience\\Lib\\site-packages\\sklearn\\linear_model\\_coordinate_descent.py:695: ConvergenceWarning: Objective did not converge. You might want to increase the number of iterations, check the scale of the features or consider increasing regularisation. Duality gap: 2.257e+02, tolerance: 9.272e+00\n",
      "  model = cd_fast.enet_coordinate_descent(\n",
      "c:\\Users\\mgurg\\Desktop\\BU OMCDS\\Semester-3\\datascience\\Lib\\site-packages\\sklearn\\linear_model\\_coordinate_descent.py:695: ConvergenceWarning: Objective did not converge. You might want to increase the number of iterations, check the scale of the features or consider increasing regularisation. Duality gap: 1.061e+03, tolerance: 9.666e+00\n",
      "  model = cd_fast.enet_coordinate_descent(\n",
      "c:\\Users\\mgurg\\Desktop\\BU OMCDS\\Semester-3\\datascience\\Lib\\site-packages\\sklearn\\linear_model\\_coordinate_descent.py:695: ConvergenceWarning: Objective did not converge. You might want to increase the number of iterations, check the scale of the features or consider increasing regularisation. Duality gap: 2.216e+03, tolerance: 9.867e+00\n",
      "  model = cd_fast.enet_coordinate_descent(\n",
      "c:\\Users\\mgurg\\Desktop\\BU OMCDS\\Semester-3\\datascience\\Lib\\site-packages\\sklearn\\linear_model\\_coordinate_descent.py:695: ConvergenceWarning: Objective did not converge. You might want to increase the number of iterations, check the scale of the features or consider increasing regularisation. Duality gap: 1.123e+04, tolerance: 1.046e+01\n",
      "  model = cd_fast.enet_coordinate_descent(\n",
      "c:\\Users\\mgurg\\Desktop\\BU OMCDS\\Semester-3\\datascience\\Lib\\site-packages\\sklearn\\linear_model\\_coordinate_descent.py:695: ConvergenceWarning: Objective did not converge. You might want to increase the number of iterations, check the scale of the features or consider increasing regularisation. Duality gap: 3.054e+03, tolerance: 9.940e+00\n",
      "  model = cd_fast.enet_coordinate_descent(\n",
      "c:\\Users\\mgurg\\Desktop\\BU OMCDS\\Semester-3\\datascience\\Lib\\site-packages\\sklearn\\linear_model\\_coordinate_descent.py:695: ConvergenceWarning: Objective did not converge. You might want to increase the number of iterations, check the scale of the features or consider increasing regularisation. Duality gap: 1.743e+04, tolerance: 8.886e+00\n",
      "  model = cd_fast.enet_coordinate_descent(\n",
      "c:\\Users\\mgurg\\Desktop\\BU OMCDS\\Semester-3\\datascience\\Lib\\site-packages\\sklearn\\linear_model\\_coordinate_descent.py:695: ConvergenceWarning: Objective did not converge. You might want to increase the number of iterations, check the scale of the features or consider increasing regularisation. Duality gap: 3.034e+03, tolerance: 1.015e+01\n",
      "  model = cd_fast.enet_coordinate_descent(\n",
      "c:\\Users\\mgurg\\Desktop\\BU OMCDS\\Semester-3\\datascience\\Lib\\site-packages\\sklearn\\linear_model\\_coordinate_descent.py:695: ConvergenceWarning: Objective did not converge. You might want to increase the number of iterations, check the scale of the features or consider increasing regularisation. Duality gap: 1.028e+04, tolerance: 1.014e+01\n",
      "  model = cd_fast.enet_coordinate_descent(\n",
      "c:\\Users\\mgurg\\Desktop\\BU OMCDS\\Semester-3\\datascience\\Lib\\site-packages\\sklearn\\linear_model\\_coordinate_descent.py:695: ConvergenceWarning: Objective did not converge. You might want to increase the number of iterations, check the scale of the features or consider increasing regularisation. Duality gap: 1.190e+03, tolerance: 9.891e+00\n",
      "  model = cd_fast.enet_coordinate_descent(\n",
      "c:\\Users\\mgurg\\Desktop\\BU OMCDS\\Semester-3\\datascience\\Lib\\site-packages\\sklearn\\linear_model\\_coordinate_descent.py:695: ConvergenceWarning: Objective did not converge. You might want to increase the number of iterations, check the scale of the features or consider increasing regularisation. Duality gap: 1.369e+03, tolerance: 9.930e+00\n",
      "  model = cd_fast.enet_coordinate_descent(\n",
      "c:\\Users\\mgurg\\Desktop\\BU OMCDS\\Semester-3\\datascience\\Lib\\site-packages\\sklearn\\linear_model\\_coordinate_descent.py:695: ConvergenceWarning: Objective did not converge. You might want to increase the number of iterations, check the scale of the features or consider increasing regularisation. Duality gap: 1.191e+04, tolerance: 1.009e+01\n",
      "  model = cd_fast.enet_coordinate_descent(\n",
      "c:\\Users\\mgurg\\Desktop\\BU OMCDS\\Semester-3\\datascience\\Lib\\site-packages\\sklearn\\linear_model\\_coordinate_descent.py:695: ConvergenceWarning: Objective did not converge. You might want to increase the number of iterations, check the scale of the features or consider increasing regularisation. Duality gap: 1.833e+04, tolerance: 9.641e+00\n",
      "  model = cd_fast.enet_coordinate_descent(\n",
      "c:\\Users\\mgurg\\Desktop\\BU OMCDS\\Semester-3\\datascience\\Lib\\site-packages\\sklearn\\linear_model\\_coordinate_descent.py:695: ConvergenceWarning: Objective did not converge. You might want to increase the number of iterations, check the scale of the features or consider increasing regularisation. Duality gap: 1.809e+04, tolerance: 9.660e+00\n",
      "  model = cd_fast.enet_coordinate_descent(\n",
      "c:\\Users\\mgurg\\Desktop\\BU OMCDS\\Semester-3\\datascience\\Lib\\site-packages\\sklearn\\linear_model\\_coordinate_descent.py:695: ConvergenceWarning: Objective did not converge. You might want to increase the number of iterations, check the scale of the features or consider increasing regularisation. Duality gap: 5.453e+03, tolerance: 9.749e+00\n",
      "  model = cd_fast.enet_coordinate_descent(\n",
      "c:\\Users\\mgurg\\Desktop\\BU OMCDS\\Semester-3\\datascience\\Lib\\site-packages\\sklearn\\linear_model\\_coordinate_descent.py:695: ConvergenceWarning: Objective did not converge. You might want to increase the number of iterations, check the scale of the features or consider increasing regularisation. Duality gap: 2.124e+02, tolerance: 9.832e+00\n",
      "  model = cd_fast.enet_coordinate_descent(\n",
      "c:\\Users\\mgurg\\Desktop\\BU OMCDS\\Semester-3\\datascience\\Lib\\site-packages\\sklearn\\linear_model\\_coordinate_descent.py:695: ConvergenceWarning: Objective did not converge. You might want to increase the number of iterations, check the scale of the features or consider increasing regularisation. Duality gap: 5.647e+03, tolerance: 1.010e+01\n",
      "  model = cd_fast.enet_coordinate_descent(\n",
      "c:\\Users\\mgurg\\Desktop\\BU OMCDS\\Semester-3\\datascience\\Lib\\site-packages\\sklearn\\linear_model\\_coordinate_descent.py:695: ConvergenceWarning: Objective did not converge. You might want to increase the number of iterations, check the scale of the features or consider increasing regularisation. Duality gap: 4.531e+02, tolerance: 1.003e+01\n",
      "  model = cd_fast.enet_coordinate_descent(\n",
      "c:\\Users\\mgurg\\Desktop\\BU OMCDS\\Semester-3\\datascience\\Lib\\site-packages\\sklearn\\linear_model\\_coordinate_descent.py:695: ConvergenceWarning: Objective did not converge. You might want to increase the number of iterations, check the scale of the features or consider increasing regularisation. Duality gap: 1.068e+04, tolerance: 9.892e+00\n",
      "  model = cd_fast.enet_coordinate_descent(\n",
      "c:\\Users\\mgurg\\Desktop\\BU OMCDS\\Semester-3\\datascience\\Lib\\site-packages\\sklearn\\linear_model\\_coordinate_descent.py:695: ConvergenceWarning: Objective did not converge. You might want to increase the number of iterations, check the scale of the features or consider increasing regularisation. Duality gap: 2.054e+04, tolerance: 9.183e+00\n",
      "  model = cd_fast.enet_coordinate_descent(\n",
      "c:\\Users\\mgurg\\Desktop\\BU OMCDS\\Semester-3\\datascience\\Lib\\site-packages\\sklearn\\linear_model\\_coordinate_descent.py:695: ConvergenceWarning: Objective did not converge. You might want to increase the number of iterations, check the scale of the features or consider increasing regularisation. Duality gap: 7.908e+01, tolerance: 9.545e+00\n",
      "  model = cd_fast.enet_coordinate_descent(\n",
      "c:\\Users\\mgurg\\Desktop\\BU OMCDS\\Semester-3\\datascience\\Lib\\site-packages\\sklearn\\linear_model\\_coordinate_descent.py:695: ConvergenceWarning: Objective did not converge. You might want to increase the number of iterations, check the scale of the features or consider increasing regularisation. Duality gap: 1.156e+04, tolerance: 9.504e+00\n",
      "  model = cd_fast.enet_coordinate_descent(\n",
      "c:\\Users\\mgurg\\Desktop\\BU OMCDS\\Semester-3\\datascience\\Lib\\site-packages\\sklearn\\linear_model\\_coordinate_descent.py:695: ConvergenceWarning: Objective did not converge. You might want to increase the number of iterations, check the scale of the features or consider increasing regularisation. Duality gap: 5.838e+02, tolerance: 9.846e+00\n",
      "  model = cd_fast.enet_coordinate_descent(\n",
      "c:\\Users\\mgurg\\Desktop\\BU OMCDS\\Semester-3\\datascience\\Lib\\site-packages\\sklearn\\linear_model\\_coordinate_descent.py:695: ConvergenceWarning: Objective did not converge. You might want to increase the number of iterations, check the scale of the features or consider increasing regularisation. Duality gap: 1.506e+02, tolerance: 1.038e+01\n",
      "  model = cd_fast.enet_coordinate_descent(\n",
      "c:\\Users\\mgurg\\Desktop\\BU OMCDS\\Semester-3\\datascience\\Lib\\site-packages\\sklearn\\linear_model\\_coordinate_descent.py:695: ConvergenceWarning: Objective did not converge. You might want to increase the number of iterations, check the scale of the features or consider increasing regularisation. Duality gap: 1.175e+03, tolerance: 9.372e+00\n",
      "  model = cd_fast.enet_coordinate_descent(\n",
      "c:\\Users\\mgurg\\Desktop\\BU OMCDS\\Semester-3\\datascience\\Lib\\site-packages\\sklearn\\linear_model\\_coordinate_descent.py:695: ConvergenceWarning: Objective did not converge. You might want to increase the number of iterations, check the scale of the features or consider increasing regularisation. Duality gap: 9.884e+01, tolerance: 9.890e+00\n",
      "  model = cd_fast.enet_coordinate_descent(\n",
      "c:\\Users\\mgurg\\Desktop\\BU OMCDS\\Semester-3\\datascience\\Lib\\site-packages\\sklearn\\linear_model\\_coordinate_descent.py:695: ConvergenceWarning: Objective did not converge. You might want to increase the number of iterations, check the scale of the features or consider increasing regularisation. Duality gap: 1.085e+02, tolerance: 9.980e+00\n",
      "  model = cd_fast.enet_coordinate_descent(\n",
      "c:\\Users\\mgurg\\Desktop\\BU OMCDS\\Semester-3\\datascience\\Lib\\site-packages\\sklearn\\linear_model\\_coordinate_descent.py:695: ConvergenceWarning: Objective did not converge. You might want to increase the number of iterations, check the scale of the features or consider increasing regularisation. Duality gap: 2.604e+02, tolerance: 9.456e+00\n",
      "  model = cd_fast.enet_coordinate_descent(\n",
      "c:\\Users\\mgurg\\Desktop\\BU OMCDS\\Semester-3\\datascience\\Lib\\site-packages\\sklearn\\linear_model\\_coordinate_descent.py:695: ConvergenceWarning: Objective did not converge. You might want to increase the number of iterations, check the scale of the features or consider increasing regularisation. Duality gap: 6.844e+02, tolerance: 9.868e+00\n",
      "  model = cd_fast.enet_coordinate_descent(\n",
      "c:\\Users\\mgurg\\Desktop\\BU OMCDS\\Semester-3\\datascience\\Lib\\site-packages\\sklearn\\linear_model\\_coordinate_descent.py:695: ConvergenceWarning: Objective did not converge. You might want to increase the number of iterations, check the scale of the features or consider increasing regularisation. Duality gap: 3.176e+03, tolerance: 1.009e+01\n",
      "  model = cd_fast.enet_coordinate_descent(\n",
      "c:\\Users\\mgurg\\Desktop\\BU OMCDS\\Semester-3\\datascience\\Lib\\site-packages\\sklearn\\linear_model\\_coordinate_descent.py:695: ConvergenceWarning: Objective did not converge. You might want to increase the number of iterations, check the scale of the features or consider increasing regularisation. Duality gap: 1.483e+02, tolerance: 9.442e+00\n",
      "  model = cd_fast.enet_coordinate_descent(\n",
      "c:\\Users\\mgurg\\Desktop\\BU OMCDS\\Semester-3\\datascience\\Lib\\site-packages\\sklearn\\linear_model\\_coordinate_descent.py:695: ConvergenceWarning: Objective did not converge. You might want to increase the number of iterations, check the scale of the features or consider increasing regularisation. Duality gap: 2.183e+02, tolerance: 9.582e+00\n",
      "  model = cd_fast.enet_coordinate_descent(\n",
      "c:\\Users\\mgurg\\Desktop\\BU OMCDS\\Semester-3\\datascience\\Lib\\site-packages\\sklearn\\linear_model\\_coordinate_descent.py:695: ConvergenceWarning: Objective did not converge. You might want to increase the number of iterations, check the scale of the features or consider increasing regularisation. Duality gap: 1.115e+03, tolerance: 9.448e+00\n",
      "  model = cd_fast.enet_coordinate_descent(\n",
      "c:\\Users\\mgurg\\Desktop\\BU OMCDS\\Semester-3\\datascience\\Lib\\site-packages\\sklearn\\linear_model\\_coordinate_descent.py:695: ConvergenceWarning: Objective did not converge. You might want to increase the number of iterations, check the scale of the features or consider increasing regularisation. Duality gap: 2.213e+02, tolerance: 1.044e+01\n",
      "  model = cd_fast.enet_coordinate_descent(\n",
      "c:\\Users\\mgurg\\Desktop\\BU OMCDS\\Semester-3\\datascience\\Lib\\site-packages\\sklearn\\linear_model\\_coordinate_descent.py:695: ConvergenceWarning: Objective did not converge. You might want to increase the number of iterations, check the scale of the features or consider increasing regularisation. Duality gap: 3.045e+02, tolerance: 9.988e+00\n",
      "  model = cd_fast.enet_coordinate_descent(\n",
      "c:\\Users\\mgurg\\Desktop\\BU OMCDS\\Semester-3\\datascience\\Lib\\site-packages\\sklearn\\linear_model\\_coordinate_descent.py:695: ConvergenceWarning: Objective did not converge. You might want to increase the number of iterations, check the scale of the features or consider increasing regularisation. Duality gap: 1.183e+01, tolerance: 9.890e+00\n",
      "  model = cd_fast.enet_coordinate_descent(\n",
      "c:\\Users\\mgurg\\Desktop\\BU OMCDS\\Semester-3\\datascience\\Lib\\site-packages\\sklearn\\linear_model\\_coordinate_descent.py:695: ConvergenceWarning: Objective did not converge. You might want to increase the number of iterations, check the scale of the features or consider increasing regularisation. Duality gap: 3.496e+02, tolerance: 9.330e+00\n",
      "  model = cd_fast.enet_coordinate_descent(\n",
      "c:\\Users\\mgurg\\Desktop\\BU OMCDS\\Semester-3\\datascience\\Lib\\site-packages\\sklearn\\linear_model\\_coordinate_descent.py:695: ConvergenceWarning: Objective did not converge. You might want to increase the number of iterations, check the scale of the features or consider increasing regularisation. Duality gap: 2.653e+02, tolerance: 1.000e+01\n",
      "  model = cd_fast.enet_coordinate_descent(\n",
      "c:\\Users\\mgurg\\Desktop\\BU OMCDS\\Semester-3\\datascience\\Lib\\site-packages\\sklearn\\linear_model\\_coordinate_descent.py:695: ConvergenceWarning: Objective did not converge. You might want to increase the number of iterations, check the scale of the features or consider increasing regularisation. Duality gap: 1.387e+03, tolerance: 9.420e+00\n",
      "  model = cd_fast.enet_coordinate_descent(\n",
      "c:\\Users\\mgurg\\Desktop\\BU OMCDS\\Semester-3\\datascience\\Lib\\site-packages\\sklearn\\linear_model\\_coordinate_descent.py:695: ConvergenceWarning: Objective did not converge. You might want to increase the number of iterations, check the scale of the features or consider increasing regularisation. Duality gap: 2.431e+01, tolerance: 1.014e+01\n",
      "  model = cd_fast.enet_coordinate_descent(\n",
      "c:\\Users\\mgurg\\Desktop\\BU OMCDS\\Semester-3\\datascience\\Lib\\site-packages\\sklearn\\linear_model\\_coordinate_descent.py:695: ConvergenceWarning: Objective did not converge. You might want to increase the number of iterations, check the scale of the features or consider increasing regularisation. Duality gap: 2.346e+01, tolerance: 9.323e+00\n",
      "  model = cd_fast.enet_coordinate_descent(\n",
      "c:\\Users\\mgurg\\Desktop\\BU OMCDS\\Semester-3\\datascience\\Lib\\site-packages\\sklearn\\linear_model\\_coordinate_descent.py:695: ConvergenceWarning: Objective did not converge. You might want to increase the number of iterations, check the scale of the features or consider increasing regularisation. Duality gap: 1.510e+02, tolerance: 1.052e+01\n",
      "  model = cd_fast.enet_coordinate_descent(\n",
      "c:\\Users\\mgurg\\Desktop\\BU OMCDS\\Semester-3\\datascience\\Lib\\site-packages\\sklearn\\linear_model\\_coordinate_descent.py:695: ConvergenceWarning: Objective did not converge. You might want to increase the number of iterations, check the scale of the features or consider increasing regularisation. Duality gap: 2.045e+03, tolerance: 8.850e+00\n",
      "  model = cd_fast.enet_coordinate_descent(\n",
      "c:\\Users\\mgurg\\Desktop\\BU OMCDS\\Semester-3\\datascience\\Lib\\site-packages\\sklearn\\linear_model\\_coordinate_descent.py:695: ConvergenceWarning: Objective did not converge. You might want to increase the number of iterations, check the scale of the features or consider increasing regularisation. Duality gap: 1.939e+03, tolerance: 9.810e+00\n",
      "  model = cd_fast.enet_coordinate_descent(\n",
      "c:\\Users\\mgurg\\Desktop\\BU OMCDS\\Semester-3\\datascience\\Lib\\site-packages\\sklearn\\linear_model\\_coordinate_descent.py:695: ConvergenceWarning: Objective did not converge. You might want to increase the number of iterations, check the scale of the features or consider increasing regularisation. Duality gap: 1.010e+01, tolerance: 9.272e+00\n",
      "  model = cd_fast.enet_coordinate_descent(\n",
      "c:\\Users\\mgurg\\Desktop\\BU OMCDS\\Semester-3\\datascience\\Lib\\site-packages\\sklearn\\linear_model\\_coordinate_descent.py:695: ConvergenceWarning: Objective did not converge. You might want to increase the number of iterations, check the scale of the features or consider increasing regularisation. Duality gap: 2.561e+03, tolerance: 9.666e+00\n",
      "  model = cd_fast.enet_coordinate_descent(\n",
      "c:\\Users\\mgurg\\Desktop\\BU OMCDS\\Semester-3\\datascience\\Lib\\site-packages\\sklearn\\linear_model\\_coordinate_descent.py:695: ConvergenceWarning: Objective did not converge. You might want to increase the number of iterations, check the scale of the features or consider increasing regularisation. Duality gap: 1.894e+02, tolerance: 9.867e+00\n",
      "  model = cd_fast.enet_coordinate_descent(\n",
      "c:\\Users\\mgurg\\Desktop\\BU OMCDS\\Semester-3\\datascience\\Lib\\site-packages\\sklearn\\linear_model\\_coordinate_descent.py:695: ConvergenceWarning: Objective did not converge. You might want to increase the number of iterations, check the scale of the features or consider increasing regularisation. Duality gap: 3.694e+03, tolerance: 9.940e+00\n",
      "  model = cd_fast.enet_coordinate_descent(\n",
      "c:\\Users\\mgurg\\Desktop\\BU OMCDS\\Semester-3\\datascience\\Lib\\site-packages\\sklearn\\linear_model\\_coordinate_descent.py:695: ConvergenceWarning: Objective did not converge. You might want to increase the number of iterations, check the scale of the features or consider increasing regularisation. Duality gap: 1.028e+04, tolerance: 8.886e+00\n",
      "  model = cd_fast.enet_coordinate_descent(\n",
      "c:\\Users\\mgurg\\Desktop\\BU OMCDS\\Semester-3\\datascience\\Lib\\site-packages\\sklearn\\linear_model\\_coordinate_descent.py:695: ConvergenceWarning: Objective did not converge. You might want to increase the number of iterations, check the scale of the features or consider increasing regularisation. Duality gap: 1.223e+02, tolerance: 1.015e+01\n",
      "  model = cd_fast.enet_coordinate_descent(\n",
      "c:\\Users\\mgurg\\Desktop\\BU OMCDS\\Semester-3\\datascience\\Lib\\site-packages\\sklearn\\linear_model\\_coordinate_descent.py:695: ConvergenceWarning: Objective did not converge. You might want to increase the number of iterations, check the scale of the features or consider increasing regularisation. Duality gap: 2.282e+01, tolerance: 9.930e+00\n",
      "  model = cd_fast.enet_coordinate_descent(\n",
      "c:\\Users\\mgurg\\Desktop\\BU OMCDS\\Semester-3\\datascience\\Lib\\site-packages\\sklearn\\linear_model\\_coordinate_descent.py:695: ConvergenceWarning: Objective did not converge. You might want to increase the number of iterations, check the scale of the features or consider increasing regularisation. Duality gap: 2.128e+02, tolerance: 9.641e+00\n",
      "  model = cd_fast.enet_coordinate_descent(\n",
      "c:\\Users\\mgurg\\Desktop\\BU OMCDS\\Semester-3\\datascience\\Lib\\site-packages\\sklearn\\linear_model\\_coordinate_descent.py:695: ConvergenceWarning: Objective did not converge. You might want to increase the number of iterations, check the scale of the features or consider increasing regularisation. Duality gap: 1.721e+03, tolerance: 9.660e+00\n",
      "  model = cd_fast.enet_coordinate_descent(\n",
      "c:\\Users\\mgurg\\Desktop\\BU OMCDS\\Semester-3\\datascience\\Lib\\site-packages\\sklearn\\linear_model\\_coordinate_descent.py:695: ConvergenceWarning: Objective did not converge. You might want to increase the number of iterations, check the scale of the features or consider increasing regularisation. Duality gap: 5.380e+02, tolerance: 9.749e+00\n",
      "  model = cd_fast.enet_coordinate_descent(\n",
      "c:\\Users\\mgurg\\Desktop\\BU OMCDS\\Semester-3\\datascience\\Lib\\site-packages\\sklearn\\linear_model\\_coordinate_descent.py:695: ConvergenceWarning: Objective did not converge. You might want to increase the number of iterations, check the scale of the features or consider increasing regularisation. Duality gap: 1.530e+01, tolerance: 9.892e+00\n",
      "  model = cd_fast.enet_coordinate_descent(\n",
      "c:\\Users\\mgurg\\Desktop\\BU OMCDS\\Semester-3\\datascience\\Lib\\site-packages\\sklearn\\linear_model\\_coordinate_descent.py:695: ConvergenceWarning: Objective did not converge. You might want to increase the number of iterations, check the scale of the features or consider increasing regularisation. Duality gap: 6.417e+03, tolerance: 9.183e+00\n",
      "  model = cd_fast.enet_coordinate_descent(\n",
      "c:\\Users\\mgurg\\Desktop\\BU OMCDS\\Semester-3\\datascience\\Lib\\site-packages\\sklearn\\linear_model\\_coordinate_descent.py:695: ConvergenceWarning: Objective did not converge. You might want to increase the number of iterations, check the scale of the features or consider increasing regularisation. Duality gap: 1.478e+01, tolerance: 1.017e+01\n",
      "  model = cd_fast.enet_coordinate_descent(\n",
      "c:\\Users\\mgurg\\Desktop\\BU OMCDS\\Semester-3\\datascience\\Lib\\site-packages\\sklearn\\linear_model\\_coordinate_descent.py:695: ConvergenceWarning: Objective did not converge. You might want to increase the number of iterations, check the scale of the features or consider increasing regularisation. Duality gap: 1.992e+01, tolerance: 9.545e+00\n",
      "  model = cd_fast.enet_coordinate_descent(\n",
      "c:\\Users\\mgurg\\Desktop\\BU OMCDS\\Semester-3\\datascience\\Lib\\site-packages\\sklearn\\linear_model\\_coordinate_descent.py:695: ConvergenceWarning: Objective did not converge. You might want to increase the number of iterations, check the scale of the features or consider increasing regularisation. Duality gap: 9.385e+02, tolerance: 9.504e+00\n",
      "  model = cd_fast.enet_coordinate_descent(\n",
      "c:\\Users\\mgurg\\Desktop\\BU OMCDS\\Semester-3\\datascience\\Lib\\site-packages\\sklearn\\linear_model\\_coordinate_descent.py:695: ConvergenceWarning: Objective did not converge. You might want to increase the number of iterations, check the scale of the features or consider increasing regularisation. Duality gap: 1.962e+02, tolerance: 9.846e+00\n",
      "  model = cd_fast.enet_coordinate_descent(\n",
      "c:\\Users\\mgurg\\Desktop\\BU OMCDS\\Semester-3\\datascience\\Lib\\site-packages\\sklearn\\linear_model\\_coordinate_descent.py:695: ConvergenceWarning: Objective did not converge. You might want to increase the number of iterations, check the scale of the features or consider increasing regularisation. Duality gap: 6.906e+01, tolerance: 1.038e+01\n",
      "  model = cd_fast.enet_coordinate_descent(\n",
      "c:\\Users\\mgurg\\Desktop\\BU OMCDS\\Semester-3\\datascience\\Lib\\site-packages\\sklearn\\linear_model\\_coordinate_descent.py:695: ConvergenceWarning: Objective did not converge. You might want to increase the number of iterations, check the scale of the features or consider increasing regularisation. Duality gap: 1.914e+02, tolerance: 9.372e+00\n",
      "  model = cd_fast.enet_coordinate_descent(\n",
      "c:\\Users\\mgurg\\Desktop\\BU OMCDS\\Semester-3\\datascience\\Lib\\site-packages\\sklearn\\linear_model\\_coordinate_descent.py:695: ConvergenceWarning: Objective did not converge. You might want to increase the number of iterations, check the scale of the features or consider increasing regularisation. Duality gap: 7.810e+01, tolerance: 9.890e+00\n",
      "  model = cd_fast.enet_coordinate_descent(\n",
      "c:\\Users\\mgurg\\Desktop\\BU OMCDS\\Semester-3\\datascience\\Lib\\site-packages\\sklearn\\linear_model\\_coordinate_descent.py:695: ConvergenceWarning: Objective did not converge. You might want to increase the number of iterations, check the scale of the features or consider increasing regularisation. Duality gap: 6.460e+01, tolerance: 9.456e+00\n",
      "  model = cd_fast.enet_coordinate_descent(\n",
      "c:\\Users\\mgurg\\Desktop\\BU OMCDS\\Semester-3\\datascience\\Lib\\site-packages\\sklearn\\linear_model\\_coordinate_descent.py:695: ConvergenceWarning: Objective did not converge. You might want to increase the number of iterations, check the scale of the features or consider increasing regularisation. Duality gap: 6.066e+01, tolerance: 9.868e+00\n",
      "  model = cd_fast.enet_coordinate_descent(\n",
      "c:\\Users\\mgurg\\Desktop\\BU OMCDS\\Semester-3\\datascience\\Lib\\site-packages\\sklearn\\linear_model\\_coordinate_descent.py:695: ConvergenceWarning: Objective did not converge. You might want to increase the number of iterations, check the scale of the features or consider increasing regularisation. Duality gap: 1.018e+03, tolerance: 1.009e+01\n",
      "  model = cd_fast.enet_coordinate_descent(\n",
      "c:\\Users\\mgurg\\Desktop\\BU OMCDS\\Semester-3\\datascience\\Lib\\site-packages\\sklearn\\linear_model\\_coordinate_descent.py:695: ConvergenceWarning: Objective did not converge. You might want to increase the number of iterations, check the scale of the features or consider increasing regularisation. Duality gap: 1.485e+01, tolerance: 9.582e+00\n",
      "  model = cd_fast.enet_coordinate_descent(\n",
      "c:\\Users\\mgurg\\Desktop\\BU OMCDS\\Semester-3\\datascience\\Lib\\site-packages\\sklearn\\linear_model\\_coordinate_descent.py:695: ConvergenceWarning: Objective did not converge. You might want to increase the number of iterations, check the scale of the features or consider increasing regularisation. Duality gap: 1.993e+02, tolerance: 9.448e+00\n",
      "  model = cd_fast.enet_coordinate_descent(\n",
      "c:\\Users\\mgurg\\Desktop\\BU OMCDS\\Semester-3\\datascience\\Lib\\site-packages\\sklearn\\linear_model\\_coordinate_descent.py:695: ConvergenceWarning: Objective did not converge. You might want to increase the number of iterations, check the scale of the features or consider increasing regularisation. Duality gap: 1.684e+02, tolerance: 9.988e+00\n",
      "  model = cd_fast.enet_coordinate_descent(\n",
      "c:\\Users\\mgurg\\Desktop\\BU OMCDS\\Semester-3\\datascience\\Lib\\site-packages\\sklearn\\linear_model\\_coordinate_descent.py:695: ConvergenceWarning: Objective did not converge. You might want to increase the number of iterations, check the scale of the features or consider increasing regularisation. Duality gap: 1.561e+02, tolerance: 9.890e+00\n",
      "  model = cd_fast.enet_coordinate_descent(\n",
      "c:\\Users\\mgurg\\Desktop\\BU OMCDS\\Semester-3\\datascience\\Lib\\site-packages\\sklearn\\linear_model\\_coordinate_descent.py:695: ConvergenceWarning: Objective did not converge. You might want to increase the number of iterations, check the scale of the features or consider increasing regularisation. Duality gap: 7.553e+01, tolerance: 1.000e+01\n",
      "  model = cd_fast.enet_coordinate_descent(\n",
      "c:\\Users\\mgurg\\Desktop\\BU OMCDS\\Semester-3\\datascience\\Lib\\site-packages\\sklearn\\linear_model\\_coordinate_descent.py:695: ConvergenceWarning: Objective did not converge. You might want to increase the number of iterations, check the scale of the features or consider increasing regularisation. Duality gap: 3.217e+02, tolerance: 9.420e+00\n",
      "  model = cd_fast.enet_coordinate_descent(\n",
      "c:\\Users\\mgurg\\Desktop\\BU OMCDS\\Semester-3\\datascience\\Lib\\site-packages\\sklearn\\linear_model\\_coordinate_descent.py:695: ConvergenceWarning: Objective did not converge. You might want to increase the number of iterations, check the scale of the features or consider increasing regularisation. Duality gap: 2.276e+01, tolerance: 1.014e+01\n",
      "  model = cd_fast.enet_coordinate_descent(\n",
      "c:\\Users\\mgurg\\Desktop\\BU OMCDS\\Semester-3\\datascience\\Lib\\site-packages\\sklearn\\linear_model\\_coordinate_descent.py:695: ConvergenceWarning: Objective did not converge. You might want to increase the number of iterations, check the scale of the features or consider increasing regularisation. Duality gap: 1.480e+02, tolerance: 1.052e+01\n",
      "  model = cd_fast.enet_coordinate_descent(\n",
      "c:\\Users\\mgurg\\Desktop\\BU OMCDS\\Semester-3\\datascience\\Lib\\site-packages\\sklearn\\linear_model\\_coordinate_descent.py:695: ConvergenceWarning: Objective did not converge. You might want to increase the number of iterations, check the scale of the features or consider increasing regularisation. Duality gap: 2.918e+02, tolerance: 8.850e+00\n",
      "  model = cd_fast.enet_coordinate_descent(\n",
      "c:\\Users\\mgurg\\Desktop\\BU OMCDS\\Semester-3\\datascience\\Lib\\site-packages\\sklearn\\linear_model\\_coordinate_descent.py:695: ConvergenceWarning: Objective did not converge. You might want to increase the number of iterations, check the scale of the features or consider increasing regularisation. Duality gap: 4.654e+02, tolerance: 9.810e+00\n",
      "  model = cd_fast.enet_coordinate_descent(\n",
      "c:\\Users\\mgurg\\Desktop\\BU OMCDS\\Semester-3\\datascience\\Lib\\site-packages\\sklearn\\linear_model\\_coordinate_descent.py:695: ConvergenceWarning: Objective did not converge. You might want to increase the number of iterations, check the scale of the features or consider increasing regularisation. Duality gap: 9.237e+02, tolerance: 9.666e+00\n",
      "  model = cd_fast.enet_coordinate_descent(\n",
      "c:\\Users\\mgurg\\Desktop\\BU OMCDS\\Semester-3\\datascience\\Lib\\site-packages\\sklearn\\linear_model\\_coordinate_descent.py:695: ConvergenceWarning: Objective did not converge. You might want to increase the number of iterations, check the scale of the features or consider increasing regularisation. Duality gap: 1.017e+03, tolerance: 9.940e+00\n",
      "  model = cd_fast.enet_coordinate_descent(\n",
      "c:\\Users\\mgurg\\Desktop\\BU OMCDS\\Semester-3\\datascience\\Lib\\site-packages\\sklearn\\linear_model\\_coordinate_descent.py:695: ConvergenceWarning: Objective did not converge. You might want to increase the number of iterations, check the scale of the features or consider increasing regularisation. Duality gap: 1.324e+03, tolerance: 8.886e+00\n",
      "  model = cd_fast.enet_coordinate_descent(\n",
      "c:\\Users\\mgurg\\Desktop\\BU OMCDS\\Semester-3\\datascience\\Lib\\site-packages\\sklearn\\linear_model\\_coordinate_descent.py:695: ConvergenceWarning: Objective did not converge. You might want to increase the number of iterations, check the scale of the features or consider increasing regularisation. Duality gap: 9.023e+01, tolerance: 9.930e+00\n",
      "  model = cd_fast.enet_coordinate_descent(\n",
      "c:\\Users\\mgurg\\Desktop\\BU OMCDS\\Semester-3\\datascience\\Lib\\site-packages\\sklearn\\linear_model\\_coordinate_descent.py:695: ConvergenceWarning: Objective did not converge. You might want to increase the number of iterations, check the scale of the features or consider increasing regularisation. Duality gap: 3.855e+01, tolerance: 9.641e+00\n",
      "  model = cd_fast.enet_coordinate_descent(\n",
      "c:\\Users\\mgurg\\Desktop\\BU OMCDS\\Semester-3\\datascience\\Lib\\site-packages\\sklearn\\linear_model\\_coordinate_descent.py:695: ConvergenceWarning: Objective did not converge. You might want to increase the number of iterations, check the scale of the features or consider increasing regularisation. Duality gap: 1.176e+02, tolerance: 9.660e+00\n",
      "  model = cd_fast.enet_coordinate_descent(\n",
      "c:\\Users\\mgurg\\Desktop\\BU OMCDS\\Semester-3\\datascience\\Lib\\site-packages\\sklearn\\linear_model\\_coordinate_descent.py:695: ConvergenceWarning: Objective did not converge. You might want to increase the number of iterations, check the scale of the features or consider increasing regularisation. Duality gap: 1.445e+02, tolerance: 9.749e+00\n",
      "  model = cd_fast.enet_coordinate_descent(\n",
      "c:\\Users\\mgurg\\Desktop\\BU OMCDS\\Semester-3\\datascience\\Lib\\site-packages\\sklearn\\linear_model\\_coordinate_descent.py:695: ConvergenceWarning: Objective did not converge. You might want to increase the number of iterations, check the scale of the features or consider increasing regularisation. Duality gap: 4.896e+01, tolerance: 9.832e+00\n",
      "  model = cd_fast.enet_coordinate_descent(\n",
      "c:\\Users\\mgurg\\Desktop\\BU OMCDS\\Semester-3\\datascience\\Lib\\site-packages\\sklearn\\linear_model\\_coordinate_descent.py:695: ConvergenceWarning: Objective did not converge. You might want to increase the number of iterations, check the scale of the features or consider increasing regularisation. Duality gap: 6.623e+02, tolerance: 9.183e+00\n",
      "  model = cd_fast.enet_coordinate_descent(\n",
      "c:\\Users\\mgurg\\Desktop\\BU OMCDS\\Semester-3\\datascience\\Lib\\site-packages\\sklearn\\linear_model\\_coordinate_descent.py:695: ConvergenceWarning: Objective did not converge. You might want to increase the number of iterations, check the scale of the features or consider increasing regularisation. Duality gap: 1.884e+02, tolerance: 9.504e+00\n",
      "  model = cd_fast.enet_coordinate_descent(\n",
      "c:\\Users\\mgurg\\Desktop\\BU OMCDS\\Semester-3\\datascience\\Lib\\site-packages\\sklearn\\linear_model\\_coordinate_descent.py:695: ConvergenceWarning: Objective did not converge. You might want to increase the number of iterations, check the scale of the features or consider increasing regularisation. Duality gap: 3.695e+01, tolerance: 9.846e+00\n",
      "  model = cd_fast.enet_coordinate_descent(\n",
      "c:\\Users\\mgurg\\Desktop\\BU OMCDS\\Semester-3\\datascience\\Lib\\site-packages\\sklearn\\linear_model\\_coordinate_descent.py:695: ConvergenceWarning: Objective did not converge. You might want to increase the number of iterations, check the scale of the features or consider increasing regularisation. Duality gap: 2.773e+01, tolerance: 9.372e+00\n",
      "  model = cd_fast.enet_coordinate_descent(\n",
      "c:\\Users\\mgurg\\Desktop\\BU OMCDS\\Semester-3\\datascience\\Lib\\site-packages\\sklearn\\linear_model\\_coordinate_descent.py:695: ConvergenceWarning: Objective did not converge. You might want to increase the number of iterations, check the scale of the features or consider increasing regularisation. Duality gap: 1.683e+01, tolerance: 9.890e+00\n",
      "  model = cd_fast.enet_coordinate_descent(\n",
      "c:\\Users\\mgurg\\Desktop\\BU OMCDS\\Semester-3\\datascience\\Lib\\site-packages\\sklearn\\linear_model\\_coordinate_descent.py:695: ConvergenceWarning: Objective did not converge. You might want to increase the number of iterations, check the scale of the features or consider increasing regularisation. Duality gap: 1.032e+01, tolerance: 9.980e+00\n",
      "  model = cd_fast.enet_coordinate_descent(\n",
      "c:\\Users\\mgurg\\Desktop\\BU OMCDS\\Semester-3\\datascience\\Lib\\site-packages\\sklearn\\linear_model\\_coordinate_descent.py:695: ConvergenceWarning: Objective did not converge. You might want to increase the number of iterations, check the scale of the features or consider increasing regularisation. Duality gap: 1.100e+01, tolerance: 9.456e+00\n",
      "  model = cd_fast.enet_coordinate_descent(\n",
      "c:\\Users\\mgurg\\Desktop\\BU OMCDS\\Semester-3\\datascience\\Lib\\site-packages\\sklearn\\linear_model\\_coordinate_descent.py:695: ConvergenceWarning: Objective did not converge. You might want to increase the number of iterations, check the scale of the features or consider increasing regularisation. Duality gap: 2.485e+02, tolerance: 1.009e+01\n",
      "  model = cd_fast.enet_coordinate_descent(\n",
      "c:\\Users\\mgurg\\Desktop\\BU OMCDS\\Semester-3\\datascience\\Lib\\site-packages\\sklearn\\linear_model\\_coordinate_descent.py:695: ConvergenceWarning: Objective did not converge. You might want to increase the number of iterations, check the scale of the features or consider increasing regularisation. Duality gap: 4.015e+01, tolerance: 9.448e+00\n",
      "  model = cd_fast.enet_coordinate_descent(\n",
      "c:\\Users\\mgurg\\Desktop\\BU OMCDS\\Semester-3\\datascience\\Lib\\site-packages\\sklearn\\linear_model\\_coordinate_descent.py:695: ConvergenceWarning: Objective did not converge. You might want to increase the number of iterations, check the scale of the features or consider increasing regularisation. Duality gap: 3.934e+01, tolerance: 9.988e+00\n",
      "  model = cd_fast.enet_coordinate_descent(\n",
      "c:\\Users\\mgurg\\Desktop\\BU OMCDS\\Semester-3\\datascience\\Lib\\site-packages\\sklearn\\linear_model\\_coordinate_descent.py:695: ConvergenceWarning: Objective did not converge. You might want to increase the number of iterations, check the scale of the features or consider increasing regularisation. Duality gap: 4.651e+01, tolerance: 9.890e+00\n",
      "  model = cd_fast.enet_coordinate_descent(\n",
      "c:\\Users\\mgurg\\Desktop\\BU OMCDS\\Semester-3\\datascience\\Lib\\site-packages\\sklearn\\linear_model\\_coordinate_descent.py:695: ConvergenceWarning: Objective did not converge. You might want to increase the number of iterations, check the scale of the features or consider increasing regularisation. Duality gap: 1.292e+01, tolerance: 1.000e+01\n",
      "  model = cd_fast.enet_coordinate_descent(\n",
      "c:\\Users\\mgurg\\Desktop\\BU OMCDS\\Semester-3\\datascience\\Lib\\site-packages\\sklearn\\linear_model\\_coordinate_descent.py:695: ConvergenceWarning: Objective did not converge. You might want to increase the number of iterations, check the scale of the features or consider increasing regularisation. Duality gap: 8.385e+01, tolerance: 9.420e+00\n",
      "  model = cd_fast.enet_coordinate_descent(\n",
      "c:\\Users\\mgurg\\Desktop\\BU OMCDS\\Semester-3\\datascience\\Lib\\site-packages\\sklearn\\linear_model\\_coordinate_descent.py:695: ConvergenceWarning: Objective did not converge. You might want to increase the number of iterations, check the scale of the features or consider increasing regularisation. Duality gap: 1.506e+01, tolerance: 1.014e+01\n",
      "  model = cd_fast.enet_coordinate_descent(\n",
      "c:\\Users\\mgurg\\Desktop\\BU OMCDS\\Semester-3\\datascience\\Lib\\site-packages\\sklearn\\linear_model\\_coordinate_descent.py:695: ConvergenceWarning: Objective did not converge. You might want to increase the number of iterations, check the scale of the features or consider increasing regularisation. Duality gap: 3.842e+01, tolerance: 1.052e+01\n",
      "  model = cd_fast.enet_coordinate_descent(\n",
      "c:\\Users\\mgurg\\Desktop\\BU OMCDS\\Semester-3\\datascience\\Lib\\site-packages\\sklearn\\linear_model\\_coordinate_descent.py:695: ConvergenceWarning: Objective did not converge. You might want to increase the number of iterations, check the scale of the features or consider increasing regularisation. Duality gap: 6.971e+01, tolerance: 8.850e+00\n",
      "  model = cd_fast.enet_coordinate_descent(\n",
      "c:\\Users\\mgurg\\Desktop\\BU OMCDS\\Semester-3\\datascience\\Lib\\site-packages\\sklearn\\linear_model\\_coordinate_descent.py:695: ConvergenceWarning: Objective did not converge. You might want to increase the number of iterations, check the scale of the features or consider increasing regularisation. Duality gap: 1.251e+02, tolerance: 9.810e+00\n",
      "  model = cd_fast.enet_coordinate_descent(\n",
      "c:\\Users\\mgurg\\Desktop\\BU OMCDS\\Semester-3\\datascience\\Lib\\site-packages\\sklearn\\linear_model\\_coordinate_descent.py:695: ConvergenceWarning: Objective did not converge. You might want to increase the number of iterations, check the scale of the features or consider increasing regularisation. Duality gap: 2.456e+02, tolerance: 9.666e+00\n",
      "  model = cd_fast.enet_coordinate_descent(\n",
      "c:\\Users\\mgurg\\Desktop\\BU OMCDS\\Semester-3\\datascience\\Lib\\site-packages\\sklearn\\linear_model\\_coordinate_descent.py:695: ConvergenceWarning: Objective did not converge. You might want to increase the number of iterations, check the scale of the features or consider increasing regularisation. Duality gap: 2.370e+02, tolerance: 9.940e+00\n",
      "  model = cd_fast.enet_coordinate_descent(\n",
      "c:\\Users\\mgurg\\Desktop\\BU OMCDS\\Semester-3\\datascience\\Lib\\site-packages\\sklearn\\linear_model\\_coordinate_descent.py:695: ConvergenceWarning: Objective did not converge. You might want to increase the number of iterations, check the scale of the features or consider increasing regularisation. Duality gap: 1.753e+02, tolerance: 8.886e+00\n",
      "  model = cd_fast.enet_coordinate_descent(\n",
      "c:\\Users\\mgurg\\Desktop\\BU OMCDS\\Semester-3\\datascience\\Lib\\site-packages\\sklearn\\linear_model\\_coordinate_descent.py:695: ConvergenceWarning: Objective did not converge. You might want to increase the number of iterations, check the scale of the features or consider increasing regularisation. Duality gap: 1.357e+01, tolerance: 9.891e+00\n",
      "  model = cd_fast.enet_coordinate_descent(\n",
      "c:\\Users\\mgurg\\Desktop\\BU OMCDS\\Semester-3\\datascience\\Lib\\site-packages\\sklearn\\linear_model\\_coordinate_descent.py:695: ConvergenceWarning: Objective did not converge. You might want to increase the number of iterations, check the scale of the features or consider increasing regularisation. Duality gap: 2.535e+01, tolerance: 9.930e+00\n",
      "  model = cd_fast.enet_coordinate_descent(\n",
      "c:\\Users\\mgurg\\Desktop\\BU OMCDS\\Semester-3\\datascience\\Lib\\site-packages\\sklearn\\linear_model\\_coordinate_descent.py:695: ConvergenceWarning: Objective did not converge. You might want to increase the number of iterations, check the scale of the features or consider increasing regularisation. Duality gap: 1.192e+01, tolerance: 9.660e+00\n",
      "  model = cd_fast.enet_coordinate_descent(\n",
      "c:\\Users\\mgurg\\Desktop\\BU OMCDS\\Semester-3\\datascience\\Lib\\site-packages\\sklearn\\linear_model\\_coordinate_descent.py:695: ConvergenceWarning: Objective did not converge. You might want to increase the number of iterations, check the scale of the features or consider increasing regularisation. Duality gap: 2.262e+01, tolerance: 9.749e+00\n",
      "  model = cd_fast.enet_coordinate_descent(\n",
      "c:\\Users\\mgurg\\Desktop\\BU OMCDS\\Semester-3\\datascience\\Lib\\site-packages\\sklearn\\linear_model\\_coordinate_descent.py:695: ConvergenceWarning: Objective did not converge. You might want to increase the number of iterations, check the scale of the features or consider increasing regularisation. Duality gap: 1.055e+01, tolerance: 9.832e+00\n",
      "  model = cd_fast.enet_coordinate_descent(\n",
      "c:\\Users\\mgurg\\Desktop\\BU OMCDS\\Semester-3\\datascience\\Lib\\site-packages\\sklearn\\linear_model\\_coordinate_descent.py:695: ConvergenceWarning: Objective did not converge. You might want to increase the number of iterations, check the scale of the features or consider increasing regularisation. Duality gap: 1.339e+02, tolerance: 9.183e+00\n",
      "  model = cd_fast.enet_coordinate_descent(\n",
      "c:\\Users\\mgurg\\Desktop\\BU OMCDS\\Semester-3\\datascience\\Lib\\site-packages\\sklearn\\linear_model\\_coordinate_descent.py:695: ConvergenceWarning: Objective did not converge. You might want to increase the number of iterations, check the scale of the features or consider increasing regularisation. Duality gap: 3.350e+01, tolerance: 9.504e+00\n",
      "  model = cd_fast.enet_coordinate_descent(\n",
      "c:\\Users\\mgurg\\Desktop\\BU OMCDS\\Semester-3\\datascience\\Lib\\site-packages\\sklearn\\linear_model\\_coordinate_descent.py:695: ConvergenceWarning: Objective did not converge. You might want to increase the number of iterations, check the scale of the features or consider increasing regularisation. Duality gap: 4.342e+01, tolerance: 1.009e+01\n",
      "  model = cd_fast.enet_coordinate_descent(\n",
      "c:\\Users\\mgurg\\Desktop\\BU OMCDS\\Semester-3\\datascience\\Lib\\site-packages\\sklearn\\linear_model\\_coordinate_descent.py:695: ConvergenceWarning: Objective did not converge. You might want to increase the number of iterations, check the scale of the features or consider increasing regularisation. Duality gap: 1.589e+01, tolerance: 9.420e+00\n",
      "  model = cd_fast.enet_coordinate_descent(\n",
      "c:\\Users\\mgurg\\Desktop\\BU OMCDS\\Semester-3\\datascience\\Lib\\site-packages\\sklearn\\linear_model\\_coordinate_descent.py:695: ConvergenceWarning: Objective did not converge. You might want to increase the number of iterations, check the scale of the features or consider increasing regularisation. Duality gap: 1.529e+01, tolerance: 8.850e+00\n",
      "  model = cd_fast.enet_coordinate_descent(\n",
      "c:\\Users\\mgurg\\Desktop\\BU OMCDS\\Semester-3\\datascience\\Lib\\site-packages\\sklearn\\linear_model\\_coordinate_descent.py:695: ConvergenceWarning: Objective did not converge. You might want to increase the number of iterations, check the scale of the features or consider increasing regularisation. Duality gap: 2.497e+01, tolerance: 9.810e+00\n",
      "  model = cd_fast.enet_coordinate_descent(\n",
      "c:\\Users\\mgurg\\Desktop\\BU OMCDS\\Semester-3\\datascience\\Lib\\site-packages\\sklearn\\linear_model\\_coordinate_descent.py:695: ConvergenceWarning: Objective did not converge. You might want to increase the number of iterations, check the scale of the features or consider increasing regularisation. Duality gap: 4.159e+01, tolerance: 9.666e+00\n",
      "  model = cd_fast.enet_coordinate_descent(\n",
      "c:\\Users\\mgurg\\Desktop\\BU OMCDS\\Semester-3\\datascience\\Lib\\site-packages\\sklearn\\linear_model\\_coordinate_descent.py:695: ConvergenceWarning: Objective did not converge. You might want to increase the number of iterations, check the scale of the features or consider increasing regularisation. Duality gap: 2.604e+01, tolerance: 9.940e+00\n",
      "  model = cd_fast.enet_coordinate_descent(\n",
      "c:\\Users\\mgurg\\Desktop\\BU OMCDS\\Semester-3\\datascience\\Lib\\site-packages\\sklearn\\linear_model\\_coordinate_descent.py:695: ConvergenceWarning: Objective did not converge. You might want to increase the number of iterations, check the scale of the features or consider increasing regularisation. Duality gap: 2.302e+01, tolerance: 8.886e+00\n",
      "  model = cd_fast.enet_coordinate_descent(\n",
      "c:\\Users\\mgurg\\Desktop\\BU OMCDS\\Semester-3\\datascience\\Lib\\site-packages\\sklearn\\linear_model\\_coordinate_descent.py:695: ConvergenceWarning: Objective did not converge. You might want to increase the number of iterations, check the scale of the features or consider increasing regularisation. Duality gap: 2.640e+01, tolerance: 9.183e+00\n",
      "  model = cd_fast.enet_coordinate_descent(\n",
      "c:\\Users\\mgurg\\Desktop\\BU OMCDS\\Semester-3\\datascience\\Lib\\site-packages\\sklearn\\linear_model\\_coordinate_descent.py:695: ConvergenceWarning: Objective did not converge. You might want to increase the number of iterations, check the scale of the features or consider increasing regularisation. Duality gap: 1.381e+01, tolerance: 1.009e+01\n",
      "  model = cd_fast.enet_coordinate_descent(\n",
      "c:\\Users\\mgurg\\Desktop\\BU OMCDS\\Semester-3\\datascience\\Lib\\site-packages\\sklearn\\linear_model\\_coordinate_descent.py:695: ConvergenceWarning: Objective did not converge. You might want to increase the number of iterations, check the scale of the features or consider increasing regularisation. Duality gap: 1.017e+01, tolerance: 9.666e+00\n",
      "  model = cd_fast.enet_coordinate_descent(\n"
     ]
    },
    {
     "data": {
      "text/html": [
       "<div>\n",
       "<style scoped>\n",
       "    .dataframe tbody tr th:only-of-type {\n",
       "        vertical-align: middle;\n",
       "    }\n",
       "\n",
       "    .dataframe tbody tr th {\n",
       "        vertical-align: top;\n",
       "    }\n",
       "\n",
       "    .dataframe thead th {\n",
       "        text-align: right;\n",
       "    }\n",
       "</style>\n",
       "<table border=\"1\" class=\"dataframe\">\n",
       "  <thead>\n",
       "    <tr style=\"text-align: right;\">\n",
       "      <th></th>\n",
       "      <th>param_alpha</th>\n",
       "      <th>mean_error</th>\n",
       "    </tr>\n",
       "  </thead>\n",
       "  <tbody>\n",
       "    <tr>\n",
       "      <th>0</th>\n",
       "      <td>1</td>\n",
       "      <td>19.307286</td>\n",
       "    </tr>\n",
       "    <tr>\n",
       "      <th>1</th>\n",
       "      <td>5</td>\n",
       "      <td>19.143445</td>\n",
       "    </tr>\n",
       "    <tr>\n",
       "      <th>2</th>\n",
       "      <td>10</td>\n",
       "      <td>19.049019</td>\n",
       "    </tr>\n",
       "    <tr>\n",
       "      <th>3</th>\n",
       "      <td>20</td>\n",
       "      <td>18.958780</td>\n",
       "    </tr>\n",
       "    <tr>\n",
       "      <th>4</th>\n",
       "      <td>40</td>\n",
       "      <td>18.865464</td>\n",
       "    </tr>\n",
       "    <tr>\n",
       "      <th>5</th>\n",
       "      <td>60</td>\n",
       "      <td>18.803088</td>\n",
       "    </tr>\n",
       "    <tr>\n",
       "      <th>6</th>\n",
       "      <td>80</td>\n",
       "      <td>18.745227</td>\n",
       "    </tr>\n",
       "    <tr>\n",
       "      <th>7</th>\n",
       "      <td>100</td>\n",
       "      <td>18.708476</td>\n",
       "    </tr>\n",
       "  </tbody>\n",
       "</table>\n",
       "</div>"
      ],
      "text/plain": [
       "   param_alpha  mean_error\n",
       "0            1   19.307286\n",
       "1            5   19.143445\n",
       "2           10   19.049019\n",
       "3           20   18.958780\n",
       "4           40   18.865464\n",
       "5           60   18.803088\n",
       "6           80   18.745227\n",
       "7          100   18.708476"
      ]
     },
     "execution_count": 16,
     "metadata": {},
     "output_type": "execute_result"
    }
   ],
   "source": [
    "# Team stats to predict inj w enet\n",
    "alpha_team = {'alpha': [1, 5, 10, 20, 40, 60, 80, 100]}\n",
    "enet_team_grid = ElasticNet()\n",
    "gridsearch_team = GridSearchCV(estimator=enet_team_grid, param_grid=alpha_team, cv=rkf, scoring='neg_mean_squared_error')\n",
    "gridsearch_team.fit(X_team, y_team)\n",
    "\n",
    "results_team = pd.DataFrame(gridsearch_team.cv_results_)\n",
    "results_team['mean_error'] = np.sqrt(-results_team['mean_test_score'])\n",
    "results_team[['param_alpha', 'mean_error']]"
   ]
  },
  {
   "cell_type": "code",
   "execution_count": 17,
   "id": "3682e640",
   "metadata": {},
   "outputs": [
    {
     "name": "stderr",
     "output_type": "stream",
     "text": [
      "c:\\Users\\mgurg\\Desktop\\BU OMCDS\\Semester-3\\datascience\\Lib\\site-packages\\sklearn\\linear_model\\_coordinate_descent.py:695: ConvergenceWarning: Objective did not converge. You might want to increase the number of iterations, check the scale of the features or consider increasing regularisation. Duality gap: 9.701e-04, tolerance: 9.320e-04\n",
      "  model = cd_fast.enet_coordinate_descent(\n",
      "c:\\Users\\mgurg\\Desktop\\BU OMCDS\\Semester-3\\datascience\\Lib\\site-packages\\sklearn\\linear_model\\_coordinate_descent.py:695: ConvergenceWarning: Objective did not converge. You might want to increase the number of iterations, check the scale of the features or consider increasing regularisation. Duality gap: 1.625e-03, tolerance: 9.868e-04\n",
      "  model = cd_fast.enet_coordinate_descent(\n",
      "c:\\Users\\mgurg\\Desktop\\BU OMCDS\\Semester-3\\datascience\\Lib\\site-packages\\sklearn\\linear_model\\_coordinate_descent.py:695: ConvergenceWarning: Objective did not converge. You might want to increase the number of iterations, check the scale of the features or consider increasing regularisation. Duality gap: 2.001e-03, tolerance: 9.631e-04\n",
      "  model = cd_fast.enet_coordinate_descent(\n",
      "c:\\Users\\mgurg\\Desktop\\BU OMCDS\\Semester-3\\datascience\\Lib\\site-packages\\sklearn\\linear_model\\_coordinate_descent.py:695: ConvergenceWarning: Objective did not converge. You might want to increase the number of iterations, check the scale of the features or consider increasing regularisation. Duality gap: 1.118e-03, tolerance: 1.023e-03\n",
      "  model = cd_fast.enet_coordinate_descent(\n",
      "c:\\Users\\mgurg\\Desktop\\BU OMCDS\\Semester-3\\datascience\\Lib\\site-packages\\sklearn\\linear_model\\_coordinate_descent.py:695: ConvergenceWarning: Objective did not converge. You might want to increase the number of iterations, check the scale of the features or consider increasing regularisation. Duality gap: 1.119e-03, tolerance: 9.949e-04\n",
      "  model = cd_fast.enet_coordinate_descent(\n",
      "c:\\Users\\mgurg\\Desktop\\BU OMCDS\\Semester-3\\datascience\\Lib\\site-packages\\sklearn\\linear_model\\_coordinate_descent.py:695: ConvergenceWarning: Objective did not converge. You might want to increase the number of iterations, check the scale of the features or consider increasing regularisation. Duality gap: 3.796e-03, tolerance: 1.009e-03\n",
      "  model = cd_fast.enet_coordinate_descent(\n",
      "c:\\Users\\mgurg\\Desktop\\BU OMCDS\\Semester-3\\datascience\\Lib\\site-packages\\sklearn\\linear_model\\_coordinate_descent.py:695: ConvergenceWarning: Objective did not converge. You might want to increase the number of iterations, check the scale of the features or consider increasing regularisation. Duality gap: 1.665e-03, tolerance: 1.010e-03\n",
      "  model = cd_fast.enet_coordinate_descent(\n",
      "c:\\Users\\mgurg\\Desktop\\BU OMCDS\\Semester-3\\datascience\\Lib\\site-packages\\sklearn\\linear_model\\_coordinate_descent.py:695: ConvergenceWarning: Objective did not converge. You might want to increase the number of iterations, check the scale of the features or consider increasing regularisation. Duality gap: 1.079e-03, tolerance: 1.015e-03\n",
      "  model = cd_fast.enet_coordinate_descent(\n",
      "c:\\Users\\mgurg\\Desktop\\BU OMCDS\\Semester-3\\datascience\\Lib\\site-packages\\sklearn\\linear_model\\_coordinate_descent.py:695: ConvergenceWarning: Objective did not converge. You might want to increase the number of iterations, check the scale of the features or consider increasing regularisation. Duality gap: 2.280e-03, tolerance: 1.003e-03\n",
      "  model = cd_fast.enet_coordinate_descent(\n",
      "c:\\Users\\mgurg\\Desktop\\BU OMCDS\\Semester-3\\datascience\\Lib\\site-packages\\sklearn\\linear_model\\_coordinate_descent.py:695: ConvergenceWarning: Objective did not converge. You might want to increase the number of iterations, check the scale of the features or consider increasing regularisation. Duality gap: 1.548e-03, tolerance: 1.026e-03\n",
      "  model = cd_fast.enet_coordinate_descent(\n",
      "c:\\Users\\mgurg\\Desktop\\BU OMCDS\\Semester-3\\datascience\\Lib\\site-packages\\sklearn\\linear_model\\_coordinate_descent.py:695: ConvergenceWarning: Objective did not converge. You might want to increase the number of iterations, check the scale of the features or consider increasing regularisation. Duality gap: 1.579e-03, tolerance: 9.256e-04\n",
      "  model = cd_fast.enet_coordinate_descent(\n",
      "c:\\Users\\mgurg\\Desktop\\BU OMCDS\\Semester-3\\datascience\\Lib\\site-packages\\sklearn\\linear_model\\_coordinate_descent.py:695: ConvergenceWarning: Objective did not converge. You might want to increase the number of iterations, check the scale of the features or consider increasing regularisation. Duality gap: 4.350e-03, tolerance: 9.722e-04\n",
      "  model = cd_fast.enet_coordinate_descent(\n",
      "c:\\Users\\mgurg\\Desktop\\BU OMCDS\\Semester-3\\datascience\\Lib\\site-packages\\sklearn\\linear_model\\_coordinate_descent.py:695: ConvergenceWarning: Objective did not converge. You might want to increase the number of iterations, check the scale of the features or consider increasing regularisation. Duality gap: 2.922e-03, tolerance: 9.063e-04\n",
      "  model = cd_fast.enet_coordinate_descent(\n",
      "c:\\Users\\mgurg\\Desktop\\BU OMCDS\\Semester-3\\datascience\\Lib\\site-packages\\sklearn\\linear_model\\_coordinate_descent.py:695: ConvergenceWarning: Objective did not converge. You might want to increase the number of iterations, check the scale of the features or consider increasing regularisation. Duality gap: 1.341e-03, tolerance: 1.019e-03\n",
      "  model = cd_fast.enet_coordinate_descent(\n",
      "c:\\Users\\mgurg\\Desktop\\BU OMCDS\\Semester-3\\datascience\\Lib\\site-packages\\sklearn\\linear_model\\_coordinate_descent.py:695: ConvergenceWarning: Objective did not converge. You might want to increase the number of iterations, check the scale of the features or consider increasing regularisation. Duality gap: 3.278e-03, tolerance: 1.046e-03\n",
      "  model = cd_fast.enet_coordinate_descent(\n",
      "c:\\Users\\mgurg\\Desktop\\BU OMCDS\\Semester-3\\datascience\\Lib\\site-packages\\sklearn\\linear_model\\_coordinate_descent.py:695: ConvergenceWarning: Objective did not converge. You might want to increase the number of iterations, check the scale of the features or consider increasing regularisation. Duality gap: 1.167e-03, tolerance: 1.003e-03\n",
      "  model = cd_fast.enet_coordinate_descent(\n",
      "c:\\Users\\mgurg\\Desktop\\BU OMCDS\\Semester-3\\datascience\\Lib\\site-packages\\sklearn\\linear_model\\_coordinate_descent.py:695: ConvergenceWarning: Objective did not converge. You might want to increase the number of iterations, check the scale of the features or consider increasing regularisation. Duality gap: 1.391e-03, tolerance: 9.063e-04\n",
      "  model = cd_fast.enet_coordinate_descent(\n",
      "c:\\Users\\mgurg\\Desktop\\BU OMCDS\\Semester-3\\datascience\\Lib\\site-packages\\sklearn\\linear_model\\_coordinate_descent.py:695: ConvergenceWarning: Objective did not converge. You might want to increase the number of iterations, check the scale of the features or consider increasing regularisation. Duality gap: 1.055e-03, tolerance: 1.003e-03\n",
      "  model = cd_fast.enet_coordinate_descent(\n",
      "c:\\Users\\mgurg\\Desktop\\BU OMCDS\\Semester-3\\datascience\\Lib\\site-packages\\sklearn\\linear_model\\_coordinate_descent.py:695: ConvergenceWarning: Objective did not converge. You might want to increase the number of iterations, check the scale of the features or consider increasing regularisation. Duality gap: 1.293e-03, tolerance: 9.063e-04\n",
      "  model = cd_fast.enet_coordinate_descent(\n",
      "c:\\Users\\mgurg\\Desktop\\BU OMCDS\\Semester-3\\datascience\\Lib\\site-packages\\sklearn\\linear_model\\_coordinate_descent.py:695: ConvergenceWarning: Objective did not converge. You might want to increase the number of iterations, check the scale of the features or consider increasing regularisation. Duality gap: 1.165e-03, tolerance: 9.063e-04\n",
      "  model = cd_fast.enet_coordinate_descent(\n",
      "c:\\Users\\mgurg\\Desktop\\BU OMCDS\\Semester-3\\datascience\\Lib\\site-packages\\sklearn\\linear_model\\_coordinate_descent.py:695: ConvergenceWarning: Objective did not converge. You might want to increase the number of iterations, check the scale of the features or consider increasing regularisation. Duality gap: 1.087e-03, tolerance: 9.063e-04\n",
      "  model = cd_fast.enet_coordinate_descent(\n"
     ]
    },
    {
     "data": {
      "text/html": [
       "<div>\n",
       "<style scoped>\n",
       "    .dataframe tbody tr th:only-of-type {\n",
       "        vertical-align: middle;\n",
       "    }\n",
       "\n",
       "    .dataframe tbody tr th {\n",
       "        vertical-align: top;\n",
       "    }\n",
       "\n",
       "    .dataframe thead th {\n",
       "        text-align: right;\n",
       "    }\n",
       "</style>\n",
       "<table border=\"1\" class=\"dataframe\">\n",
       "  <thead>\n",
       "    <tr style=\"text-align: right;\">\n",
       "      <th></th>\n",
       "      <th>param_alpha</th>\n",
       "      <th>mean_error</th>\n",
       "    </tr>\n",
       "  </thead>\n",
       "  <tbody>\n",
       "    <tr>\n",
       "      <th>0</th>\n",
       "      <td>0.10</td>\n",
       "      <td>0.081468</td>\n",
       "    </tr>\n",
       "    <tr>\n",
       "      <th>1</th>\n",
       "      <td>0.25</td>\n",
       "      <td>0.081180</td>\n",
       "    </tr>\n",
       "    <tr>\n",
       "      <th>2</th>\n",
       "      <td>0.30</td>\n",
       "      <td>0.081255</td>\n",
       "    </tr>\n",
       "    <tr>\n",
       "      <th>3</th>\n",
       "      <td>0.40</td>\n",
       "      <td>0.081459</td>\n",
       "    </tr>\n",
       "    <tr>\n",
       "      <th>4</th>\n",
       "      <td>0.50</td>\n",
       "      <td>0.081600</td>\n",
       "    </tr>\n",
       "    <tr>\n",
       "      <th>5</th>\n",
       "      <td>0.75</td>\n",
       "      <td>0.081587</td>\n",
       "    </tr>\n",
       "  </tbody>\n",
       "</table>\n",
       "</div>"
      ],
      "text/plain": [
       "   param_alpha  mean_error\n",
       "0         0.10    0.081468\n",
       "1         0.25    0.081180\n",
       "2         0.30    0.081255\n",
       "3         0.40    0.081459\n",
       "4         0.50    0.081600\n",
       "5         0.75    0.081587"
      ]
     },
     "execution_count": 17,
     "metadata": {},
     "output_type": "execute_result"
    }
   ],
   "source": [
    "# Team stats to predict win_loss_perc w enet\n",
    "\n",
    "alpha_team2 = {'alpha': [.1, .25, .3, .4, .5, .75]}\n",
    "enet_team2_grid = ElasticNet()\n",
    "gridsearch_team2 = GridSearchCV(estimator=enet_team2_grid, param_grid=alpha_team2, cv=rkf, scoring='neg_mean_squared_error')\n",
    "gridsearch_team2.fit(X_team2, y_team2)\n",
    "\n",
    "results_team2 = pd.DataFrame(gridsearch_team2.cv_results_)\n",
    "results_team2['mean_error'] = np.sqrt(-results_team2['mean_test_score'])\n",
    "results_team2[['param_alpha', 'mean_error']]"
   ]
  },
  {
   "cell_type": "code",
   "execution_count": 18,
   "id": "da97a173",
   "metadata": {},
   "outputs": [
    {
     "data": {
      "text/html": [
       "<div>\n",
       "<style scoped>\n",
       "    .dataframe tbody tr th:only-of-type {\n",
       "        vertical-align: middle;\n",
       "    }\n",
       "\n",
       "    .dataframe tbody tr th {\n",
       "        vertical-align: top;\n",
       "    }\n",
       "\n",
       "    .dataframe thead th {\n",
       "        text-align: right;\n",
       "    }\n",
       "</style>\n",
       "<table border=\"1\" class=\"dataframe\">\n",
       "  <thead>\n",
       "    <tr style=\"text-align: right;\">\n",
       "      <th></th>\n",
       "      <th>param_alpha</th>\n",
       "      <th>mean_error</th>\n",
       "    </tr>\n",
       "  </thead>\n",
       "  <tbody>\n",
       "    <tr>\n",
       "      <th>0</th>\n",
       "      <td>1.00</td>\n",
       "      <td>3.934330</td>\n",
       "    </tr>\n",
       "    <tr>\n",
       "      <th>1</th>\n",
       "      <td>1.25</td>\n",
       "      <td>3.934321</td>\n",
       "    </tr>\n",
       "    <tr>\n",
       "      <th>2</th>\n",
       "      <td>1.50</td>\n",
       "      <td>3.934316</td>\n",
       "    </tr>\n",
       "    <tr>\n",
       "      <th>3</th>\n",
       "      <td>1.75</td>\n",
       "      <td>3.934314</td>\n",
       "    </tr>\n",
       "    <tr>\n",
       "      <th>4</th>\n",
       "      <td>2.00</td>\n",
       "      <td>3.934316</td>\n",
       "    </tr>\n",
       "    <tr>\n",
       "      <th>5</th>\n",
       "      <td>2.50</td>\n",
       "      <td>3.934329</td>\n",
       "    </tr>\n",
       "  </tbody>\n",
       "</table>\n",
       "</div>"
      ],
      "text/plain": [
       "   param_alpha  mean_error\n",
       "0         1.00    3.934330\n",
       "1         1.25    3.934321\n",
       "2         1.50    3.934316\n",
       "3         1.75    3.934314\n",
       "4         2.00    3.934316\n",
       "5         2.50    3.934329"
      ]
     },
     "execution_count": 18,
     "metadata": {},
     "output_type": "execute_result"
    }
   ],
   "source": [
    "# wr play by play to predict injury duration with ridge\n",
    "\n",
    "alpha_wr = {'alpha': [1, 1.25, 1.5, 1.75, 2, 2.5]}\n",
    "ridge_wr_grid = Ridge()\n",
    "gridsearch_wr = GridSearchCV(estimator=ridge_wr_grid, param_grid=alpha_wr, cv=rkf, scoring='neg_mean_squared_error')\n",
    "gridsearch_wr.fit(X_wr, y_wr)\n",
    "\n",
    "results_wr = pd.DataFrame(gridsearch_wr.cv_results_)\n",
    "results_wr['mean_error'] = np.sqrt(-results_wr['mean_test_score'])\n",
    "results_wr[['param_alpha', 'mean_error']]"
   ]
  },
  {
   "cell_type": "code",
   "execution_count": 19,
   "id": "37b81fcb",
   "metadata": {},
   "outputs": [
    {
     "data": {
      "image/png": "[encoded data removed]",
      "text/plain": [
       "<Figure size 1500x700 with 1 Axes>"
      ]
     },
     "metadata": {},
     "output_type": "display_data"
    }
   ],
   "source": [
    "grid_scores = [18.708476/y_team.std(), 0.081180/y_team2.std(), 3.934314/y_wr.std()]\n",
    "grid_labels = ['Team, Elastic Net, 100', 'Team2, Elastic Net, .25', 'WR, Ridge, 1.75']\n",
    "\n",
    "plt.figure(figsize=(15, 7))\n",
    "plt.bar(grid_labels, grid_scores)\n",
    "plt.xticks(rotation=45)\n",
    "plt.title('Model scores as a fraction of Target Std Deviation (Optimized Alpha)')\n",
    "plt.ylabel('RMSE / Target Std Deviation')\n",
    "plt.xlabel('Dataset, Model, Alpha')\n",
    "plt.show()"
   ]
  }
 ],
 "metadata": {
  "kernelspec": {
   "display_name": "datascience",
   "language": "python",
   "name": "python3"
  },
  "language_info": {
   "codemirror_mode": {
    "name": "ipython",
    "version": 3
   },
   "file_extension": ".py",
   "mimetype": "text/x-python",
   "name": "python",
   "nbconvert_exporter": "python",
   "pygments_lexer": "ipython3",
   "version": "3.13.2"
  }
 },
 "nbformat": 4,
 "nbformat_minor": 5
}
