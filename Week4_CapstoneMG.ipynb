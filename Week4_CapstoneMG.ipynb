{
 "cells": [
  {
   "cell_type": "markdown",
   "id": "ca2fe960",
   "metadata": {},
   "source": [
    "## Week 4 Capstone Work\n",
    "\n",
    "For Week 4, include concepts such as logistic regression and feature scaling."
   ]
  },
  {
   "cell_type": "code",
   "execution_count": 2,
   "id": "1f02794f",
   "metadata": {},
   "outputs": [],
   "source": [
    "# Imports\n",
    "import numpy as np\n",
    "import pandas as pd\n",
    "import statsmodels.api as sm\n",
    "from sklearn.metrics import confusion_matrix\n",
    "from sklearn.linear_model import LinearRegression, Lasso, Ridge, ElasticNet, LogisticRegression\n",
    "from sklearn.preprocessing import StandardScaler\n",
    "from sklearn.model_selection import train_test_split, RepeatedKFold, cross_val_score, GridSearchCV, cross_val_predict\n",
    "from sklearn.feature_selection import SequentialFeatureSelector\n",
    "from sklearn.decomposition import PCA\n",
    "from sklearn.pipeline import Pipeline\n",
    "import matplotlib.pyplot as plt\n",
    "from statsmodels.stats.outliers_influence import variance_inflation_factor\n",
    "import seaborn as sns\n",
    "from matplotlib.colors import ListedColormap"
   ]
  },
  {
   "cell_type": "code",
   "execution_count": 3,
   "id": "3b97ad98",
   "metadata": {},
   "outputs": [
    {
     "data": {
      "text/html": [
       "<div>\n",
       "<style scoped>\n",
       "    .dataframe tbody tr th:only-of-type {\n",
       "        vertical-align: middle;\n",
       "    }\n",
       "\n",
       "    .dataframe tbody tr th {\n",
       "        vertical-align: top;\n",
       "    }\n",
       "\n",
       "    .dataframe thead th {\n",
       "        text-align: right;\n",
       "    }\n",
       "</style>\n",
       "<table border=\"1\" class=\"dataframe\">\n",
       "  <thead>\n",
       "    <tr style=\"text-align: right;\">\n",
       "      <th></th>\n",
       "      <th>Length</th>\n",
       "      <th>Distance</th>\n",
       "      <th>DirChanges</th>\n",
       "      <th>Max_S</th>\n",
       "      <th>Max_A</th>\n",
       "      <th>Temperature</th>\n",
       "      <th>Precipitation</th>\n",
       "      <th>FieldType_Natural</th>\n",
       "      <th>PlayType_Extra Point</th>\n",
       "      <th>PlayType_Field Goal</th>\n",
       "      <th>...</th>\n",
       "      <th>PlayType_Punt Not Returned</th>\n",
       "      <th>PlayType_Punt Returned</th>\n",
       "      <th>PlayType_Rush</th>\n",
       "      <th>Length_sq</th>\n",
       "      <th>Distance_sq</th>\n",
       "      <th>DirChanges_sq</th>\n",
       "      <th>Max_S_sq</th>\n",
       "      <th>Max_A_sq</th>\n",
       "      <th>Temperature_sq</th>\n",
       "      <th>Injured</th>\n",
       "    </tr>\n",
       "  </thead>\n",
       "  <tbody>\n",
       "    <tr>\n",
       "      <th>0</th>\n",
       "      <td>35.3</td>\n",
       "      <td>52.89</td>\n",
       "      <td>35.0</td>\n",
       "      <td>7.59</td>\n",
       "      <td>0.62</td>\n",
       "      <td>39.0</td>\n",
       "      <td>1.0</td>\n",
       "      <td>0.0</td>\n",
       "      <td>0.0</td>\n",
       "      <td>0.0</td>\n",
       "      <td>...</td>\n",
       "      <td>0.0</td>\n",
       "      <td>0.0</td>\n",
       "      <td>1.0</td>\n",
       "      <td>1246.09</td>\n",
       "      <td>2797.3521</td>\n",
       "      <td>1225.0</td>\n",
       "      <td>57.6081</td>\n",
       "      <td>0.3844</td>\n",
       "      <td>1521.0</td>\n",
       "      <td>1.0</td>\n",
       "    </tr>\n",
       "    <tr>\n",
       "      <th>1</th>\n",
       "      <td>43.9</td>\n",
       "      <td>61.42</td>\n",
       "      <td>13.0</td>\n",
       "      <td>7.34</td>\n",
       "      <td>1.06</td>\n",
       "      <td>70.0</td>\n",
       "      <td>0.0</td>\n",
       "      <td>0.0</td>\n",
       "      <td>0.0</td>\n",
       "      <td>0.0</td>\n",
       "      <td>...</td>\n",
       "      <td>0.0</td>\n",
       "      <td>0.0</td>\n",
       "      <td>0.0</td>\n",
       "      <td>1927.21</td>\n",
       "      <td>3772.4164</td>\n",
       "      <td>169.0</td>\n",
       "      <td>53.8756</td>\n",
       "      <td>1.1236</td>\n",
       "      <td>4900.0</td>\n",
       "      <td>1.0</td>\n",
       "    </tr>\n",
       "    <tr>\n",
       "      <th>2</th>\n",
       "      <td>29.4</td>\n",
       "      <td>38.52</td>\n",
       "      <td>14.0</td>\n",
       "      <td>7.37</td>\n",
       "      <td>0.89</td>\n",
       "      <td>44.0</td>\n",
       "      <td>0.0</td>\n",
       "      <td>1.0</td>\n",
       "      <td>0.0</td>\n",
       "      <td>0.0</td>\n",
       "      <td>...</td>\n",
       "      <td>0.0</td>\n",
       "      <td>0.0</td>\n",
       "      <td>0.0</td>\n",
       "      <td>864.36</td>\n",
       "      <td>1483.7904</td>\n",
       "      <td>196.0</td>\n",
       "      <td>54.3169</td>\n",
       "      <td>0.7921</td>\n",
       "      <td>1936.0</td>\n",
       "      <td>1.0</td>\n",
       "    </tr>\n",
       "    <tr>\n",
       "      <th>3</th>\n",
       "      <td>18.9</td>\n",
       "      <td>47.06</td>\n",
       "      <td>2.0</td>\n",
       "      <td>7.75</td>\n",
       "      <td>0.36</td>\n",
       "      <td>76.0</td>\n",
       "      <td>0.0</td>\n",
       "      <td>0.0</td>\n",
       "      <td>0.0</td>\n",
       "      <td>0.0</td>\n",
       "      <td>...</td>\n",
       "      <td>0.0</td>\n",
       "      <td>0.0</td>\n",
       "      <td>0.0</td>\n",
       "      <td>357.21</td>\n",
       "      <td>2214.6436</td>\n",
       "      <td>4.0</td>\n",
       "      <td>60.0625</td>\n",
       "      <td>0.1296</td>\n",
       "      <td>5776.0</td>\n",
       "      <td>1.0</td>\n",
       "    </tr>\n",
       "    <tr>\n",
       "      <th>4</th>\n",
       "      <td>18.7</td>\n",
       "      <td>73.23</td>\n",
       "      <td>0.0</td>\n",
       "      <td>9.48</td>\n",
       "      <td>0.41</td>\n",
       "      <td>48.0</td>\n",
       "      <td>0.0</td>\n",
       "      <td>1.0</td>\n",
       "      <td>0.0</td>\n",
       "      <td>0.0</td>\n",
       "      <td>...</td>\n",
       "      <td>0.0</td>\n",
       "      <td>0.0</td>\n",
       "      <td>0.0</td>\n",
       "      <td>349.69</td>\n",
       "      <td>5362.6329</td>\n",
       "      <td>0.0</td>\n",
       "      <td>89.8704</td>\n",
       "      <td>0.1681</td>\n",
       "      <td>2304.0</td>\n",
       "      <td>1.0</td>\n",
       "    </tr>\n",
       "  </tbody>\n",
       "</table>\n",
       "<p>5 rows × 25 columns</p>\n",
       "</div>"
      ],
      "text/plain": [
       "   Length  Distance  DirChanges  Max_S  Max_A  Temperature  Precipitation  \\\n",
       "0    35.3     52.89        35.0   7.59   0.62         39.0            1.0   \n",
       "1    43.9     61.42        13.0   7.34   1.06         70.0            0.0   \n",
       "2    29.4     38.52        14.0   7.37   0.89         44.0            0.0   \n",
       "3    18.9     47.06         2.0   7.75   0.36         76.0            0.0   \n",
       "4    18.7     73.23         0.0   9.48   0.41         48.0            0.0   \n",
       "\n",
       "   FieldType_Natural  PlayType_Extra Point  PlayType_Field Goal  ...  \\\n",
       "0                0.0                   0.0                  0.0  ...   \n",
       "1                0.0                   0.0                  0.0  ...   \n",
       "2                1.0                   0.0                  0.0  ...   \n",
       "3                0.0                   0.0                  0.0  ...   \n",
       "4                1.0                   0.0                  0.0  ...   \n",
       "\n",
       "   PlayType_Punt Not Returned  PlayType_Punt Returned  PlayType_Rush  \\\n",
       "0                         0.0                     0.0            1.0   \n",
       "1                         0.0                     0.0            0.0   \n",
       "2                         0.0                     0.0            0.0   \n",
       "3                         0.0                     0.0            0.0   \n",
       "4                         0.0                     0.0            0.0   \n",
       "\n",
       "   Length_sq  Distance_sq  DirChanges_sq  Max_S_sq  Max_A_sq  Temperature_sq  \\\n",
       "0    1246.09    2797.3521         1225.0   57.6081    0.3844          1521.0   \n",
       "1    1927.21    3772.4164          169.0   53.8756    1.1236          4900.0   \n",
       "2     864.36    1483.7904          196.0   54.3169    0.7921          1936.0   \n",
       "3     357.21    2214.6436            4.0   60.0625    0.1296          5776.0   \n",
       "4     349.69    5362.6329            0.0   89.8704    0.1681          2304.0   \n",
       "\n",
       "   Injured  \n",
       "0      1.0  \n",
       "1      1.0  \n",
       "2      1.0  \n",
       "3      1.0  \n",
       "4      1.0  \n",
       "\n",
       "[5 rows x 25 columns]"
      ]
     },
     "execution_count": 3,
     "metadata": {},
     "output_type": "execute_result"
    }
   ],
   "source": [
    "# Read in wr data and convert injury to binary\n",
    "wr = pd.read_csv('data/cleaned/wr_eng.csv', sep=',', header=0)\n",
    "\n",
    "wr['Injured'] = (wr['Injury_Duration'] > 0).astype(float)\n",
    "\n",
    "wr = wr.drop(columns=['Injury_Duration'])\n",
    "wr.head()"
   ]
  },
  {
   "cell_type": "code",
   "execution_count": 4,
   "id": "9ab88f4b",
   "metadata": {},
   "outputs": [],
   "source": [
    "X_wr = wr.drop(columns=['Injured']).copy()\n",
    "y_wr = wr['Injured'].copy()\n",
    "\n",
    "scaler = StandardScaler()\n",
    "X_wr_scaled = scaler.fit_transform(X_wr)"
   ]
  },
  {
   "cell_type": "code",
   "execution_count": 5,
   "id": "c8207ed0",
   "metadata": {},
   "outputs": [],
   "source": [
    "rkf = RepeatedKFold(n_splits=5, n_repeats=10, random_state=42)\n",
    "logreg = LogisticRegression()\n",
    "\n",
    "scores_wr = cross_val_score(estimator=logreg, X=X_wr_scaled, y=y_wr, scoring='neg_mean_squared_error', cv=rkf)"
   ]
  },
  {
   "cell_type": "code",
   "execution_count": 6,
   "id": "2bb85d3f",
   "metadata": {},
   "outputs": [
    {
     "data": {
      "text/plain": [
       "(np.float64(0.19806203934265504), np.float64(0.21296899662224444))"
      ]
     },
     "execution_count": 6,
     "metadata": {},
     "output_type": "execute_result"
    }
   ],
   "source": [
    "np.sqrt(-scores_wr.mean()), y_wr.std()"
   ]
  },
  {
   "cell_type": "code",
   "execution_count": 7,
   "id": "6c56adb8",
   "metadata": {},
   "outputs": [
    {
     "name": "stdout",
     "output_type": "stream",
     "text": [
      "Accuracy:  0.960952380952381\n"
     ]
    },
    {
     "data": {
      "text/plain": [
       "array([[9947,   53],\n",
       "       [ 357,  143]])"
      ]
     },
     "execution_count": 7,
     "metadata": {},
     "output_type": "execute_result"
    }
   ],
   "source": [
    "rkf1 = RepeatedKFold(n_splits=5, n_repeats=1, random_state=42)\n",
    "y_wr_pred = cross_val_predict(estimator=LogisticRegression(), X=X_wr_scaled, y=y_wr, cv=rkf1)\n",
    "\n",
    "print('Accuracy: ', (y_wr_pred == y_wr).mean())\n",
    "\n",
    "conf_matrix = confusion_matrix(y_wr, y_wr_pred)\n",
    "conf_matrix"
   ]
  },
  {
   "cell_type": "markdown",
   "id": "44eb1ff5",
   "metadata": {},
   "source": [
    "Honestly, better than I expected. 143 correctly identified injuries, and only 53 were labeled not injuries. 357 false positives isn't great, but further analysis could look deeper into these plays because they could be \"High risk\". ~96% accuracy!"
   ]
  },
  {
   "cell_type": "code",
   "execution_count": 8,
   "id": "c5ccb3c2",
   "metadata": {},
   "outputs": [
    {
     "data": {
      "image/png": "[encoded data removed]",
      "text/plain": [
       "<Figure size 1000x1000 with 1 Axes>"
      ]
     },
     "metadata": {},
     "output_type": "display_data"
    }
   ],
   "source": [
    "cmap = ListedColormap(['green', 'red', 'red', 'green'])\n",
    "colors = [[1, 2], [3, 4]]\n",
    "plt.figure(figsize=(10,10))\n",
    "sns.heatmap(colors, annot=conf_matrix, fmt='d', cmap=cmap, cbar=False)\n",
    "plt.title(\"Confusion MAtrix for WR Injury Prediction\")\n",
    "plt.yticks([.5, 1.5],labels=['Not Injured', 'Injured'])\n",
    "plt.xticks([.5, 1.5],labels=['Labeled Not Injured', 'Labeled Injured'])\n",
    "\n",
    "plt.show()"
   ]
  }
 ],
 "metadata": {
  "kernelspec": {
   "display_name": "datascience",
   "language": "python",
   "name": "python3"
  },
  "language_info": {
   "codemirror_mode": {
    "name": "ipython",
    "version": 3
   },
   "file_extension": ".py",
   "mimetype": "text/x-python",
   "name": "python",
   "nbconvert_exporter": "python",
   "pygments_lexer": "ipython3",
   "version": "3.13.2"
  }
 },
 "nbformat": 4,
 "nbformat_minor": 5
}
